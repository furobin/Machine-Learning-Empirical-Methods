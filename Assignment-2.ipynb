{
 "cells": [
  {
   "cell_type": "markdown",
   "metadata": {},
   "source": [
    "<center><h1> Empirical Assignment 2</h1></center>\n",
    "\n",
    "**Author(s):**\n",
    "1. Robin Fu (robin.fu@emory.edu)\n",
    "\n",
    "**Objectives**: This <ins>assignment</ins> aims at\n",
    " 1. Making students familiar with *data pre-processing* with the ```dplyr``` and ```tidyr``` R packages;\n",
    " 2. Use *GitHub* to retrieve and submit computer code.\n",
    "\n",
    "**Instructions**:\n",
    " 1. Please write down your R code and <ins>execute</ins> it in the cell below each question.\n",
    " \n",
    "<center><h2> Questions</h2></center>"
   ]
  },
  {
   "cell_type": "markdown",
   "metadata": {},
   "source": [
    "1. Using the ```suppressWarnings``` function proceed to load the ```wooldridge```, ```dplyr```, and ```tidyr``` packages."
   ]
  },
  {
   "cell_type": "code",
   "execution_count": 1,
   "metadata": {},
   "outputs": [
    {
     "name": "stderr",
     "output_type": "stream",
     "text": [
      "Loading required package: wooldridge\n",
      "\n",
      "Loading required package: dplyr\n",
      "\n",
      "\n",
      "Attaching package: 'dplyr'\n",
      "\n",
      "\n",
      "The following objects are masked from 'package:stats':\n",
      "\n",
      "    filter, lag\n",
      "\n",
      "\n",
      "The following objects are masked from 'package:base':\n",
      "\n",
      "    intersect, setdiff, setequal, union\n",
      "\n",
      "\n",
      "Loading required package: tidyr\n",
      "\n"
     ]
    }
   ],
   "source": [
    "pcks <- c('wooldridge','dplyr','tidyr')\n",
    "suppressWarnings(for (pck in pcks){\n",
    "  if (!require(pck, character.only = TRUE)) install.packages(pck, character.only = TRUE)\n",
    "  library(pck, character.only = TRUE) \n",
    "})"
   ]
  },
  {
   "cell_type": "markdown",
   "metadata": {},
   "source": [
    "2. Use the following data set in the ```wooldridge``` package\n",
    "\n",
    "```\n",
    "LOWBRTH.DES\n",
    "\n",
    "year      lowbrth   infmort   afdcprt   popul     pcinc     physic    afdcprc  \n",
    "d90       lpcinc    cafdcprc  clpcinc   lphysic   clphysic  clowbrth  \n",
    "cinfmort  afdcpay   afdcinc   lafdcpay  clafdcpy  cafdcinc  stateabb  state     beds     \n",
    "bedspc    lbedspc   clbedspc  povrate   cpovrate  afdcpsq   cafdcpsq  \n",
    "physicpc  lphypc    clphypc   lpopul    clpopul   \n",
    "\n",
    "  Obs:   100\n",
    "\n",
    "  1. year                     1987 or 1990\n",
    "  2. lowbrth                  perc. births low weight\n",
    "  3. infmort                  infant mortality rate\n",
    "  4. afdcprt                  # participants in AFDC, 1000s\n",
    "  5. popul                    population, 1000s\n",
    "  6. pcinc                    per capita income, $\n",
    "  7. physic                   Drs. per 100,000 population\n",
    "  8. afdcprc                  percent of pop on AFDC\n",
    "  9. d90                      =1 if year == 1990\n",
    " 10. lpcinc                   log of pcinc\n",
    " 11. cafdcprc                 change in afdcprc\n",
    " 12. clpcinc                  change in lpcinc\n",
    " 13. lphysic                  log of physic\n",
    " 14. clphysic                 change in lphysic\n",
    " 15. clowbrth                 change in lowbrth\n",
    " 16. cinfmort                 change in infmort\n",
    " 17. afdcpay                  avg monthly AFDC payment\n",
    " 18. afdcinc                  afdcpay as % pcinc\n",
    " 19. lafdcpay                 log of afdcpay\n",
    " 20. clafdcpy                 change in lafdcpay\n",
    " 21. cafdcinc                 change in afdcinc\n",
    " 22. stateabb                 state postal code\n",
    " 23. state                    name of state\n",
    " 24. beds                     # hospital beds, 1000s\n",
    " 25. bedspc                   beds per capita\n",
    " 26. lbedspc                  log(bedspc)\n",
    " 27. clbedspc                 change in lbedspc\n",
    " 28. povrate                  % people below poverty line\n",
    " 29. cpovrate                 change in povrate\n",
    " 30. afdcpsq                  afdcper^2\n",
    " 31. cafdcpsq                 change in afdcpsq\n",
    " 32. physicpc                 physicians per capita\n",
    " 33. lphypc                   log(physicpc)\n",
    " 34. clphypc                  change in lphypc\n",
    " 35. lpopul                   log(popul)\n",
    " 36. clpopul                  change in lpopul\n",
    "```\n",
    "\n",
    "Create a set of dummies for each of the 50 states of the union listed in ```stateabb```. **Hint:** Read this post https://stackoverflow.com/questions/49276914/mutating-dummy-variables-in-dplyr?rq=1"
   ]
  },
  {
   "cell_type": "code",
   "execution_count": 10,
   "metadata": {
    "scrolled": false
   },
   "outputs": [
    {
     "name": "stderr",
     "output_type": "stream",
     "text": [
      "The following object is masked _by_ .GlobalEnv:\n",
      "\n",
      "    lowbrth\n",
      "\n",
      "\n",
      "The following object is masked from package:wooldridge:\n",
      "\n",
      "    lowbrth\n",
      "\n",
      "\n"
     ]
    },
    {
     "data": {
      "text/html": [
       "<table>\n",
       "<caption>A tibble: 6 × 86</caption>\n",
       "<thead>\n",
       "\t<tr><th scope=col>stateabb</th><th scope=col>stateabbAK</th><th scope=col>stateabbAL</th><th scope=col>stateabbAR</th><th scope=col>stateabbAZ</th><th scope=col>stateabbCA</th><th scope=col>stateabbCO</th><th scope=col>stateabbCT</th><th scope=col>stateabbDE</th><th scope=col>stateabbFL</th><th scope=col>...</th><th scope=col>clbedspc</th><th scope=col>povrate</th><th scope=col>cpovrate</th><th scope=col>afdcpsq</th><th scope=col>cafdcpsq</th><th scope=col>physicpc</th><th scope=col>lphypc</th><th scope=col>clphypc</th><th scope=col>lpopul</th><th scope=col>clpopul</th></tr>\n",
       "\t<tr><th scope=col>&lt;chr&gt;</th><th scope=col>&lt;dbl&gt;</th><th scope=col>&lt;dbl&gt;</th><th scope=col>&lt;dbl&gt;</th><th scope=col>&lt;dbl&gt;</th><th scope=col>&lt;dbl&gt;</th><th scope=col>&lt;dbl&gt;</th><th scope=col>&lt;dbl&gt;</th><th scope=col>&lt;dbl&gt;</th><th scope=col>&lt;dbl&gt;</th><th scope=col>...</th><th scope=col>&lt;dbl&gt;</th><th scope=col>&lt;dbl&gt;</th><th scope=col>&lt;dbl&gt;</th><th scope=col>&lt;dbl&gt;</th><th scope=col>&lt;dbl&gt;</th><th scope=col>&lt;dbl&gt;</th><th scope=col>&lt;dbl&gt;</th><th scope=col>&lt;dbl&gt;</th><th scope=col>&lt;dbl&gt;</th><th scope=col>&lt;dbl&gt;</th></tr>\n",
       "</thead>\n",
       "<tbody>\n",
       "\t<tr><td>AL</td><td>0</td><td>1</td><td>0</td><td>0</td><td>0</td><td>0</td><td>0</td><td>0</td><td>0</td><td>...</td><td>         NA</td><td>21.3</td><td>        NA</td><td>10.446634</td><td>      NA</td><td>0.03697355</td><td>-3.297552</td><td>          NA</td><td>8.314832</td><td>         NA</td></tr>\n",
       "\t<tr><td>AL</td><td>0</td><td>1</td><td>0</td><td>0</td><td>0</td><td>0</td><td>0</td><td>0</td><td>0</td><td>...</td><td>-0.01876736</td><td>19.2</td><td>-2.0999985</td><td>10.670140</td><td>0.223506</td><td>0.03909923</td><td>-3.241652</td><td> 0.055899858</td><td>8.304248</td><td>-0.01058388</td></tr>\n",
       "\t<tr><td>AK</td><td>1</td><td>0</td><td>0</td><td>0</td><td>0</td><td>0</td><td>0</td><td>0</td><td>0</td><td>...</td><td>         NA</td><td>12.0</td><td>        NA</td><td>13.147544</td><td>      NA</td><td>0.26335877</td><td>-1.334238</td><td>          NA</td><td>6.261492</td><td>         NA</td></tr>\n",
       "\t<tr><td>AK</td><td>1</td><td>0</td><td>0</td><td>0</td><td>0</td><td>0</td><td>0</td><td>0</td><td>0</td><td>...</td><td>-0.04842663</td><td>11.4</td><td>-0.6000004</td><td>19.041323</td><td>5.893779</td><td>0.26545453</td><td>-1.326312</td><td> 0.007926345</td><td>6.309918</td><td> 0.04842663</td></tr>\n",
       "\t<tr><td>AZ</td><td>0</td><td>0</td><td>0</td><td>1</td><td>0</td><td>0</td><td>0</td><td>0</td><td>0</td><td>...</td><td>         NA</td><td>12.8</td><td>        NA</td><td> 7.163495</td><td>      NA</td><td>0.05617647</td><td>-2.879257</td><td>          NA</td><td>8.131531</td><td>         NA</td></tr>\n",
       "\t<tr><td>AZ</td><td>0</td><td>0</td><td>0</td><td>1</td><td>0</td><td>0</td><td>0</td><td>0</td><td>0</td><td>...</td><td>-0.08254385</td><td>13.7</td><td> 0.8999996</td><td>15.437501</td><td>8.274006</td><td>0.05375171</td><td>-2.923380</td><td>-0.044122696</td><td>8.206584</td><td> 0.07505322</td></tr>\n",
       "</tbody>\n",
       "</table>\n"
      ],
      "text/latex": [
       "A tibble: 6 × 86\n",
       "\\begin{tabular}{lllllllllllllllllllll}\n",
       " stateabb & stateabbAK & stateabbAL & stateabbAR & stateabbAZ & stateabbCA & stateabbCO & stateabbCT & stateabbDE & stateabbFL & ... & clbedspc & povrate & cpovrate & afdcpsq & cafdcpsq & physicpc & lphypc & clphypc & lpopul & clpopul\\\\\n",
       " <chr> & <dbl> & <dbl> & <dbl> & <dbl> & <dbl> & <dbl> & <dbl> & <dbl> & <dbl> & ... & <dbl> & <dbl> & <dbl> & <dbl> & <dbl> & <dbl> & <dbl> & <dbl> & <dbl> & <dbl>\\\\\n",
       "\\hline\n",
       "\t AL & 0 & 1 & 0 & 0 & 0 & 0 & 0 & 0 & 0 & ... &          NA & 21.3 &         NA & 10.446634 &       NA & 0.03697355 & -3.297552 &           NA & 8.314832 &          NA\\\\\n",
       "\t AL & 0 & 1 & 0 & 0 & 0 & 0 & 0 & 0 & 0 & ... & -0.01876736 & 19.2 & -2.0999985 & 10.670140 & 0.223506 & 0.03909923 & -3.241652 &  0.055899858 & 8.304248 & -0.01058388\\\\\n",
       "\t AK & 1 & 0 & 0 & 0 & 0 & 0 & 0 & 0 & 0 & ... &          NA & 12.0 &         NA & 13.147544 &       NA & 0.26335877 & -1.334238 &           NA & 6.261492 &          NA\\\\\n",
       "\t AK & 1 & 0 & 0 & 0 & 0 & 0 & 0 & 0 & 0 & ... & -0.04842663 & 11.4 & -0.6000004 & 19.041323 & 5.893779 & 0.26545453 & -1.326312 &  0.007926345 & 6.309918 &  0.04842663\\\\\n",
       "\t AZ & 0 & 0 & 0 & 1 & 0 & 0 & 0 & 0 & 0 & ... &          NA & 12.8 &         NA &  7.163495 &       NA & 0.05617647 & -2.879257 &           NA & 8.131531 &          NA\\\\\n",
       "\t AZ & 0 & 0 & 0 & 1 & 0 & 0 & 0 & 0 & 0 & ... & -0.08254385 & 13.7 &  0.8999996 & 15.437501 & 8.274006 & 0.05375171 & -2.923380 & -0.044122696 & 8.206584 &  0.07505322\\\\\n",
       "\\end{tabular}\n"
      ],
      "text/markdown": [
       "\n",
       "A tibble: 6 × 86\n",
       "\n",
       "| stateabb &lt;chr&gt; | stateabbAK &lt;dbl&gt; | stateabbAL &lt;dbl&gt; | stateabbAR &lt;dbl&gt; | stateabbAZ &lt;dbl&gt; | stateabbCA &lt;dbl&gt; | stateabbCO &lt;dbl&gt; | stateabbCT &lt;dbl&gt; | stateabbDE &lt;dbl&gt; | stateabbFL &lt;dbl&gt; | ... ... | clbedspc &lt;dbl&gt; | povrate &lt;dbl&gt; | cpovrate &lt;dbl&gt; | afdcpsq &lt;dbl&gt; | cafdcpsq &lt;dbl&gt; | physicpc &lt;dbl&gt; | lphypc &lt;dbl&gt; | clphypc &lt;dbl&gt; | lpopul &lt;dbl&gt; | clpopul &lt;dbl&gt; |\n",
       "|---|---|---|---|---|---|---|---|---|---|---|---|---|---|---|---|---|---|---|---|---|\n",
       "| AL | 0 | 1 | 0 | 0 | 0 | 0 | 0 | 0 | 0 | ... |          NA | 21.3 |         NA | 10.446634 |       NA | 0.03697355 | -3.297552 |           NA | 8.314832 |          NA |\n",
       "| AL | 0 | 1 | 0 | 0 | 0 | 0 | 0 | 0 | 0 | ... | -0.01876736 | 19.2 | -2.0999985 | 10.670140 | 0.223506 | 0.03909923 | -3.241652 |  0.055899858 | 8.304248 | -0.01058388 |\n",
       "| AK | 1 | 0 | 0 | 0 | 0 | 0 | 0 | 0 | 0 | ... |          NA | 12.0 |         NA | 13.147544 |       NA | 0.26335877 | -1.334238 |           NA | 6.261492 |          NA |\n",
       "| AK | 1 | 0 | 0 | 0 | 0 | 0 | 0 | 0 | 0 | ... | -0.04842663 | 11.4 | -0.6000004 | 19.041323 | 5.893779 | 0.26545453 | -1.326312 |  0.007926345 | 6.309918 |  0.04842663 |\n",
       "| AZ | 0 | 0 | 0 | 1 | 0 | 0 | 0 | 0 | 0 | ... |          NA | 12.8 |         NA |  7.163495 |       NA | 0.05617647 | -2.879257 |           NA | 8.131531 |          NA |\n",
       "| AZ | 0 | 0 | 0 | 1 | 0 | 0 | 0 | 0 | 0 | ... | -0.08254385 | 13.7 |  0.8999996 | 15.437501 | 8.274006 | 0.05375171 | -2.923380 | -0.044122696 | 8.206584 |  0.07505322 |\n",
       "\n"
      ],
      "text/plain": [
       "  stateabb stateabbAK stateabbAL stateabbAR stateabbAZ stateabbCA stateabbCO\n",
       "1 AL       0          1          0          0          0          0         \n",
       "2 AL       0          1          0          0          0          0         \n",
       "3 AK       1          0          0          0          0          0         \n",
       "4 AK       1          0          0          0          0          0         \n",
       "5 AZ       0          0          0          1          0          0         \n",
       "6 AZ       0          0          0          1          0          0         \n",
       "  stateabbCT stateabbDE stateabbFL ... clbedspc    povrate cpovrate   afdcpsq  \n",
       "1 0          0          0          ...          NA 21.3            NA 10.446634\n",
       "2 0          0          0          ... -0.01876736 19.2    -2.0999985 10.670140\n",
       "3 0          0          0          ...          NA 12.0            NA 13.147544\n",
       "4 0          0          0          ... -0.04842663 11.4    -0.6000004 19.041323\n",
       "5 0          0          0          ...          NA 12.8            NA  7.163495\n",
       "6 0          0          0          ... -0.08254385 13.7     0.8999996 15.437501\n",
       "  cafdcpsq physicpc   lphypc    clphypc      lpopul   clpopul    \n",
       "1       NA 0.03697355 -3.297552           NA 8.314832          NA\n",
       "2 0.223506 0.03909923 -3.241652  0.055899858 8.304248 -0.01058388\n",
       "3       NA 0.26335877 -1.334238           NA 6.261492          NA\n",
       "4 5.893779 0.26545453 -1.326312  0.007926345 6.309918  0.04842663\n",
       "5       NA 0.05617647 -2.879257           NA 8.131531          NA\n",
       "6 8.274006 0.05375171 -2.923380 -0.044122696 8.206584  0.07505322"
      ]
     },
     "metadata": {},
     "output_type": "display_data"
    }
   ],
   "source": [
    "data(\"lowbrth\")\n",
    "lowbrth_lc <- as_tibble(lowbrth)\n",
    "attach(lowbrth_lc)\n",
    "lowbrth_lc <- model.matrix(~ 0 + stateabb, lowbrth_lc) %>%\n",
    "  as_tibble() %>%\n",
    "  bind_cols(lowbrth_lc) %>%\n",
    "  select(stateabb, everything())\n",
    "detach(lowbrth_lc)\n",
    "\n",
    "head(lowbrth_lc)"
   ]
  },
  {
   "cell_type": "markdown",
   "metadata": {},
   "source": [
    "3. Use the following data set in the ```wooldridge``` package\n",
    "\n",
    "```\n",
    "MROZ.DES\n",
    "\n",
    "inlf      hours     kidslt6   kidsge6   age       educ      wage      repwage  \n",
    "hushrs    husage    huseduc   huswage   faminc    mtr       motheduc  \n",
    "fatheduc  unem      city      exper     nwifeinc  lwage     expersq   \n",
    "\n",
    "  Obs:   753\n",
    "\n",
    "  1. inlf                     =1 if in labor force, 1975\n",
    "  2. hours                    hours worked, 1975\n",
    "  3. kidslt6                  # kids < 6 years\n",
    "  4. kidsge6                  # kids 6-18\n",
    "  5. age                      woman's age in yrs\n",
    "  6. educ                     years of schooling\n",
    "  7. wage                     estimated wage from earns., hours\n",
    "  8. repwage                  reported wage at interview in 1976\n",
    "  9. hushrs                   hours worked by husband, 1975\n",
    " 10. husage                   husband's age\n",
    " 11. huseduc                  husband's years of schooling\n",
    " 12. huswage                  husband's hourly wage, 1975\n",
    " 13. faminc                   family income, 1975\n",
    " 14. mtr                      fed. marginal tax rate facing woman\n",
    " 15. motheduc                 mother's years of schooling\n",
    " 16. fatheduc                 father's years of schooling\n",
    " 17. unem                     unem. rate in county of resid.\n",
    " 18. city                     =1 if live in SMSA\n",
    " 19. exper                    actual labor mkt exper\n",
    " 20. nwifeinc                 (faminc - wage*hours)/1000\n",
    " 21. lwage                    log(wage)\n",
    " 22. expersq                  exper^2\n",
    "```\n",
    "\n",
    "Proceed to _impute_ the median value of ```lwage``` for the missing values. **Hint:** Read this post https://towardsdatascience.com/data-cleaning-with-r-and-the-tidyverse-detecting-missing-values-ea23c519bc62\n"
   ]
  },
  {
   "cell_type": "code",
   "execution_count": 3,
   "metadata": {},
   "outputs": [
    {
     "data": {
      "text/html": [
       "<table>\n",
       "<caption>A tibble: 1 × 2</caption>\n",
       "<thead>\n",
       "\t<tr><th scope=col>na</th><th scope=col>distinct</th></tr>\n",
       "\t<tr><th scope=col>&lt;int&gt;</th><th scope=col>&lt;int&gt;</th></tr>\n",
       "</thead>\n",
       "<tbody>\n",
       "\t<tr><td>0</td><td>374</td></tr>\n",
       "</tbody>\n",
       "</table>\n"
      ],
      "text/latex": [
       "A tibble: 1 × 2\n",
       "\\begin{tabular}{ll}\n",
       " na & distinct\\\\\n",
       " <int> & <int>\\\\\n",
       "\\hline\n",
       "\t 0 & 374\\\\\n",
       "\\end{tabular}\n"
      ],
      "text/markdown": [
       "\n",
       "A tibble: 1 × 2\n",
       "\n",
       "| na &lt;int&gt; | distinct &lt;int&gt; |\n",
       "|---|---|\n",
       "| 0 | 374 |\n",
       "\n"
      ],
      "text/plain": [
       "  na distinct\n",
       "1 0  374     "
      ]
     },
     "metadata": {},
     "output_type": "display_data"
    }
   ],
   "source": [
    "data(\"mroz\")\n",
    "mroz_lc <- as_tibble(mroz)\n",
    "\n",
    "attach(mroz_lc)\n",
    "mroz_lc <- mroz_lc %>%\n",
    "  mutate(lwage\n",
    "         = replace(lwage,\n",
    "                   is.na(lwage),\n",
    "                   median(lwage, na.rm = TRUE)))\n",
    "detach(mroz_lc)\n",
    "\n",
    "#Check to see if missing values were successfully imputed\n",
    "mroz_lc %>%\n",
    "  summarise(na = sum(is.na(lwage)), distinct = n_distinct(lwage))"
   ]
  },
  {
   "cell_type": "markdown",
   "metadata": {},
   "source": [
    "You are told that a better _imputation technique_ would be to impute the average ```lwage``` depending on the variables ```kidslt6``` and ```kidsge6```. For example, individual 429 in the sample is not working for wages, so there is a ```NA``` as her value for ```lwage```. However, this woman reports ```kidslt6=0``` and ```kidsge6=1```. Among the first 428 individuals in the sample there are 91 women with no kids below the age of 6 and just one child age 6 or above. The average ```lwage``` among these 91 women is 1.27520132007507. Therefore you proceed to impute 1.27520132007507 as the value for the missing ```lwage``` for individual 429. Do the same for _all_ the other individuals with ```NA``` as the values for ```lwage```. Print the sample average of the resulting 753 values in ```lwage```. **Note:** If the combination of ```kidslt6``` and ```kidsge6``` among the individuals with missing ```lwage``` does not exist among the 428 complete cases, simply impute the sample average among the 428 complete cases."
   ]
  },
  {
   "cell_type": "code",
   "execution_count": 4,
   "metadata": {},
   "outputs": [
    {
     "data": {
      "text/html": [
       "<table>\n",
       "<caption>A tibble: 1 × 2</caption>\n",
       "<thead>\n",
       "\t<tr><th scope=col>num_na</th><th scope=col>mean</th></tr>\n",
       "\t<tr><th scope=col>&lt;int&gt;</th><th scope=col>&lt;dbl&gt;</th></tr>\n",
       "</thead>\n",
       "<tbody>\n",
       "\t<tr><td>0</td><td>1.214948</td></tr>\n",
       "</tbody>\n",
       "</table>\n"
      ],
      "text/latex": [
       "A tibble: 1 × 2\n",
       "\\begin{tabular}{ll}\n",
       " num\\_na & mean\\\\\n",
       " <int> & <dbl>\\\\\n",
       "\\hline\n",
       "\t 0 & 1.214948\\\\\n",
       "\\end{tabular}\n"
      ],
      "text/markdown": [
       "\n",
       "A tibble: 1 × 2\n",
       "\n",
       "| num_na &lt;int&gt; | mean &lt;dbl&gt; |\n",
       "|---|---|\n",
       "| 0 | 1.214948 |\n",
       "\n"
      ],
      "text/plain": [
       "  num_na mean    \n",
       "1 0      1.214948"
      ]
     },
     "metadata": {},
     "output_type": "display_data"
    }
   ],
   "source": [
    "#Cakculate mean lwage among 428 complete cases\n",
    "lwage_mean = mean(unlist(mroz_lc[\"lwage\"]), na.rm = TRUE)\n",
    "\n",
    "#Impute values for existing combinations of kidslt6 and kidsge6\n",
    "mroz_means <- mroz_lc %>%\n",
    "  group_by(kidslt6, kidsge6)%>%\n",
    "  mutate(lwage = replace(lwage, is.na(lwage), mean(lwage, na.rm = TRUE)))\n",
    "\n",
    "#Impute values for nonexistent combinations with sample lwage mean\n",
    "mroz_means <- mroz_means %>% mutate(lwage = replace_na(lwage, lwage_mean))\n",
    "\n",
    "#Report number of NA valus and sample average of resulting 753 lwage values\n",
    "ungroup(mroz_means) %>%\n",
    "  summarise(num_na = sum(is.na(lwage)), mean = mean(lwage))"
   ]
  }
 ],
 "metadata": {
  "kernelspec": {
   "display_name": "R",
   "language": "R",
   "name": "ir"
  },
  "language_info": {
   "codemirror_mode": "r",
   "file_extension": ".r",
   "mimetype": "text/x-r-source",
   "name": "R",
   "pygments_lexer": "r",
   "version": "3.6.1"
  }
 },
 "nbformat": 4,
 "nbformat_minor": 2
}
