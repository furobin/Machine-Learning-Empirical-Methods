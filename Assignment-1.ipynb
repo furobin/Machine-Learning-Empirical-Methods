{
 "cells": [
  {
   "cell_type": "markdown",
   "metadata": {},
   "source": [
    "<center><h1> Empirical Assignment 1</h1></center>\n",
    "\n",
    "**Author(s):**\n",
    "1. Robin Fu (robin.fu@emory.edu)\n",
    "\n",
    "**Objectives**: This <ins>assignment</ins> aims at\n",
    " 1. Making students familiar with *data wrangling* with the ```dplyr``` and ```tidyr``` R packages;\n",
    " 2. Use *GitHub* to retrieve and submit computer code.\n",
    "\n",
    "**Instructions**:\n",
    " 1. Start by reading the [Data Wrangling with dplyr and tidyr cheatsheet](https://rstudio.com/wp-content/uploads/2015/02/data-wrangling-cheatsheet.pdf)\n",
    " 2. Please write down your R code and <ins>execute</ins> it in the cell below each question.\n",
    "\n",
    "<center><h2> Questions</h2></center>"
   ]
  },
  {
   "cell_type": "markdown",
   "metadata": {},
   "source": [
    "1. Install and load the ```wooldridge```, ```dplyr```, and ```tidyr``` packages and their ```dependencies```."
   ]
  },
  {
   "cell_type": "code",
   "execution_count": 2,
   "metadata": {},
   "outputs": [
    {
     "name": "stderr",
     "output_type": "stream",
     "text": [
      "Loading required package: pckgs\n",
      "\n",
      "Installing packages into 'C:/Users/foobe/Documents/R/win-library/3.6'\n",
      "(as 'lib' is unspecified)\n",
      "\n"
     ]
    },
    {
     "name": "stdout",
     "output_type": "stream",
     "text": [
      "\n",
      "  There is a binary version available but the source version is later:\n",
      "      binary source needs_compilation\n",
      "dplyr  0.8.3  0.8.4              TRUE\n",
      "\n",
      "  Binaries will be installed\n",
      "package 'wooldridge' successfully unpacked and MD5 sums checked\n",
      "package 'dplyr' successfully unpacked and MD5 sums checked\n",
      "package 'tidyr' successfully unpacked and MD5 sums checked\n",
      "\n",
      "The downloaded binary packages are in\n",
      "\tC:\\Users\\foobe\\AppData\\Local\\Temp\\RtmpEFVnHx\\downloaded_packages\n"
     ]
    },
    {
     "name": "stderr",
     "output_type": "stream",
     "text": [
      "\n",
      "Attaching package: 'dplyr'\n",
      "\n",
      "\n",
      "The following objects are masked from 'package:stats':\n",
      "\n",
      "    filter, lag\n",
      "\n",
      "\n",
      "The following objects are masked from 'package:base':\n",
      "\n",
      "    intersect, setdiff, setequal, union\n",
      "\n",
      "\n"
     ]
    }
   ],
   "source": [
    "## removing everything from memory\n",
    "rm(list=ls())\n",
    "## turning all warnings off\n",
    "options(warn=-1)\n",
    "\n",
    "#Installing wooldridge, dplyr, and tidyr packages and their dependencies\n",
    "pckgs <- c('wooldridge','dplyr','tidyr')\n",
    "if (!require(pckgs)) install.packages(pckgs, dependencies = TRUE)\n",
    "\n",
    "#Load wooldridge, dplyr, and tidyr packages and their dependencies\n",
    "library (wooldridge)\n",
    "library (dplyr)\n",
    "library (tidyr)"
   ]
  },
  {
   "cell_type": "markdown",
   "metadata": {},
   "source": [
    "2. Load the ```ceosal2``` data set from the ```wooldridge``` R library and create a ```tbl``` class local copy."
   ]
  },
  {
   "cell_type": "code",
   "execution_count": 3,
   "metadata": {},
   "outputs": [
    {
     "data": {
      "text/html": [
       "<table>\n",
       "<caption>A tibble: 6 × 15</caption>\n",
       "<thead>\n",
       "\t<tr><th scope=col>salary</th><th scope=col>age</th><th scope=col>college</th><th scope=col>grad</th><th scope=col>comten</th><th scope=col>ceoten</th><th scope=col>sales</th><th scope=col>profits</th><th scope=col>mktval</th><th scope=col>lsalary</th><th scope=col>lsales</th><th scope=col>lmktval</th><th scope=col>comtensq</th><th scope=col>ceotensq</th><th scope=col>profmarg</th></tr>\n",
       "\t<tr><th scope=col>&lt;int&gt;</th><th scope=col>&lt;int&gt;</th><th scope=col>&lt;int&gt;</th><th scope=col>&lt;int&gt;</th><th scope=col>&lt;int&gt;</th><th scope=col>&lt;int&gt;</th><th scope=col>&lt;dbl&gt;</th><th scope=col>&lt;int&gt;</th><th scope=col>&lt;dbl&gt;</th><th scope=col>&lt;dbl&gt;</th><th scope=col>&lt;dbl&gt;</th><th scope=col>&lt;dbl&gt;</th><th scope=col>&lt;int&gt;</th><th scope=col>&lt;int&gt;</th><th scope=col>&lt;dbl&gt;</th></tr>\n",
       "</thead>\n",
       "<tbody>\n",
       "\t<tr><td>1161</td><td>49</td><td>1</td><td>1</td><td> 9</td><td> 2</td><td> 6200</td><td>966</td><td>23200</td><td>7.057037</td><td>8.732305</td><td>10.051908</td><td> 81</td><td>  4</td><td>15.580646</td></tr>\n",
       "\t<tr><td> 600</td><td>43</td><td>1</td><td>1</td><td>10</td><td>10</td><td>  283</td><td> 48</td><td> 1100</td><td>6.396930</td><td>5.645447</td><td> 7.003066</td><td>100</td><td>100</td><td>16.961130</td></tr>\n",
       "\t<tr><td> 379</td><td>51</td><td>1</td><td>1</td><td> 9</td><td> 3</td><td>  169</td><td> 40</td><td> 1100</td><td>5.937536</td><td>5.129899</td><td> 7.003066</td><td> 81</td><td>  9</td><td>23.668638</td></tr>\n",
       "\t<tr><td> 651</td><td>55</td><td>1</td><td>0</td><td>22</td><td>22</td><td> 1100</td><td>-54</td><td> 1000</td><td>6.478509</td><td>7.003066</td><td> 6.907755</td><td>484</td><td>484</td><td>-4.909091</td></tr>\n",
       "\t<tr><td> 497</td><td>44</td><td>1</td><td>1</td><td> 8</td><td> 6</td><td>  351</td><td> 28</td><td>  387</td><td>6.208590</td><td>5.860786</td><td> 5.958425</td><td> 64</td><td> 36</td><td> 7.977208</td></tr>\n",
       "\t<tr><td>1067</td><td>64</td><td>1</td><td>1</td><td> 7</td><td> 7</td><td>19000</td><td>614</td><td> 3900</td><td>6.972606</td><td>9.852194</td><td> 8.268732</td><td> 49</td><td> 49</td><td> 3.231579</td></tr>\n",
       "</tbody>\n",
       "</table>\n"
      ],
      "text/latex": [
       "A tibble: 6 × 15\n",
       "\\begin{tabular}{lllllllllllllll}\n",
       " salary & age & college & grad & comten & ceoten & sales & profits & mktval & lsalary & lsales & lmktval & comtensq & ceotensq & profmarg\\\\\n",
       " <int> & <int> & <int> & <int> & <int> & <int> & <dbl> & <int> & <dbl> & <dbl> & <dbl> & <dbl> & <int> & <int> & <dbl>\\\\\n",
       "\\hline\n",
       "\t 1161 & 49 & 1 & 1 &  9 &  2 &  6200 & 966 & 23200 & 7.057037 & 8.732305 & 10.051908 &  81 &   4 & 15.580646\\\\\n",
       "\t  600 & 43 & 1 & 1 & 10 & 10 &   283 &  48 &  1100 & 6.396930 & 5.645447 &  7.003066 & 100 & 100 & 16.961130\\\\\n",
       "\t  379 & 51 & 1 & 1 &  9 &  3 &   169 &  40 &  1100 & 5.937536 & 5.129899 &  7.003066 &  81 &   9 & 23.668638\\\\\n",
       "\t  651 & 55 & 1 & 0 & 22 & 22 &  1100 & -54 &  1000 & 6.478509 & 7.003066 &  6.907755 & 484 & 484 & -4.909091\\\\\n",
       "\t  497 & 44 & 1 & 1 &  8 &  6 &   351 &  28 &   387 & 6.208590 & 5.860786 &  5.958425 &  64 &  36 &  7.977208\\\\\n",
       "\t 1067 & 64 & 1 & 1 &  7 &  7 & 19000 & 614 &  3900 & 6.972606 & 9.852194 &  8.268732 &  49 &  49 &  3.231579\\\\\n",
       "\\end{tabular}\n"
      ],
      "text/markdown": [
       "\n",
       "A tibble: 6 × 15\n",
       "\n",
       "| salary &lt;int&gt; | age &lt;int&gt; | college &lt;int&gt; | grad &lt;int&gt; | comten &lt;int&gt; | ceoten &lt;int&gt; | sales &lt;dbl&gt; | profits &lt;int&gt; | mktval &lt;dbl&gt; | lsalary &lt;dbl&gt; | lsales &lt;dbl&gt; | lmktval &lt;dbl&gt; | comtensq &lt;int&gt; | ceotensq &lt;int&gt; | profmarg &lt;dbl&gt; |\n",
       "|---|---|---|---|---|---|---|---|---|---|---|---|---|---|---|\n",
       "| 1161 | 49 | 1 | 1 |  9 |  2 |  6200 | 966 | 23200 | 7.057037 | 8.732305 | 10.051908 |  81 |   4 | 15.580646 |\n",
       "|  600 | 43 | 1 | 1 | 10 | 10 |   283 |  48 |  1100 | 6.396930 | 5.645447 |  7.003066 | 100 | 100 | 16.961130 |\n",
       "|  379 | 51 | 1 | 1 |  9 |  3 |   169 |  40 |  1100 | 5.937536 | 5.129899 |  7.003066 |  81 |   9 | 23.668638 |\n",
       "|  651 | 55 | 1 | 0 | 22 | 22 |  1100 | -54 |  1000 | 6.478509 | 7.003066 |  6.907755 | 484 | 484 | -4.909091 |\n",
       "|  497 | 44 | 1 | 1 |  8 |  6 |   351 |  28 |   387 | 6.208590 | 5.860786 |  5.958425 |  64 |  36 |  7.977208 |\n",
       "| 1067 | 64 | 1 | 1 |  7 |  7 | 19000 | 614 |  3900 | 6.972606 | 9.852194 |  8.268732 |  49 |  49 |  3.231579 |\n",
       "\n"
      ],
      "text/plain": [
       "  salary age college grad comten ceoten sales profits mktval lsalary  lsales  \n",
       "1 1161   49  1       1     9      2      6200 966     23200  7.057037 8.732305\n",
       "2  600   43  1       1    10     10       283  48      1100  6.396930 5.645447\n",
       "3  379   51  1       1     9      3       169  40      1100  5.937536 5.129899\n",
       "4  651   55  1       0    22     22      1100 -54      1000  6.478509 7.003066\n",
       "5  497   44  1       1     8      6       351  28       387  6.208590 5.860786\n",
       "6 1067   64  1       1     7      7     19000 614      3900  6.972606 9.852194\n",
       "  lmktval   comtensq ceotensq profmarg \n",
       "1 10.051908  81        4      15.580646\n",
       "2  7.003066 100      100      16.961130\n",
       "3  7.003066  81        9      23.668638\n",
       "4  6.907755 484      484      -4.909091\n",
       "5  5.958425  64       36       7.977208\n",
       "6  8.268732  49       49       3.231579"
      ]
     },
     "metadata": {},
     "output_type": "display_data"
    }
   ],
   "source": [
    "#Load ceosal2 data set from wooldridge\n",
    "data(ceosal2) \n",
    "#Save ceosal2 as tibble to df\n",
    "df <- as_tibble(ceosal2)\n",
    "#Print first 6 lines of df\n",
    "head(df)"
   ]
  },
  {
   "cell_type": "markdown",
   "metadata": {},
   "source": [
    "3. Estimate $E[\\texttt{comten}|\\texttt{college}=1]$, $E[\\texttt{comten}|\\texttt{college}=0]$, $E[\\texttt{ceoten}|\\texttt{college}=1]$ and $E[\\texttt{ceoten}|\\texttt{college}=0]$, save these values and display them."
   ]
  },
  {
   "cell_type": "code",
   "execution_count": 4,
   "metadata": {},
   "outputs": [
    {
     "name": "stdout",
     "output_type": "stream",
     "text": [
      "[1] \"E[comten|college = 1]: 22.1744186046512\"\n",
      "[1] \"E[comten|college = 0]: 33.8\"\n",
      "[1] \"E[ceoten|college = 1]: 7.82558139534884\"\n",
      "[1] \"E[ceoten|college = 0]: 12.4\"\n"
     ]
    }
   ],
   "source": [
    "#Estimating comten|college = 1\n",
    "avg_comten_1 = colMeans(df[df$college == 1,\"comten\"])\n",
    "#Estimating comten|college = 1\n",
    "avg_comten_0 = colMeans(df[df$college == 0,\"comten\"])\n",
    "\n",
    "#Estimating ceoten|college = 1\n",
    "avg_ceoten_1 = colMeans(df[df$college == 1,\"ceoten\"])\n",
    "#Estimating ceoten|college = 0\n",
    "avg_ceoten_0 = colMeans(df[df$college == 0,\"ceoten\"])\n",
    "\n",
    "#Displaying the estimated values\n",
    "print(paste(\"E[comten|college = 1]:\",avg_comten_1))\n",
    "print(paste(\"E[comten|college = 0]:\",avg_comten_0))\n",
    "print(paste(\"E[ceoten|college = 1]:\",avg_ceoten_1))\n",
    "print(paste(\"E[ceoten|college = 0]:\",avg_ceoten_0))"
   ]
  },
  {
   "cell_type": "markdown",
   "metadata": {},
   "source": [
    "4. Add two *new* variables to your local copy of the data set, ```d_comten_sq``` and ```d_ceoten_sq```, defined as the square of the difference between the corresponding ```comten``` and ```ceoten``` values and the corresponding means you calculated in (3) above, i.e., if $\\texttt{comten}_i$ corresponds to the years with the company of CEO $i$ who went to college, then the corresponding value of $\\texttt{d}\\_\\texttt{comten}\\_\\texttt{sq}_i$ should be $(\\texttt{comten}_i-\\widehat{E}[\\texttt{comten}|\\texttt{college}=1])^2$, where $\\widehat{E}[\\texttt{comten}|\\texttt{college}=1]$ represents the estimate of $E[\\texttt{comten}|\\texttt{college}=1]$ you obtained in (3) above for example."
   ]
  },
  {
   "cell_type": "code",
   "execution_count": 5,
   "metadata": {},
   "outputs": [
    {
     "data": {
      "text/html": [
       "<table>\n",
       "<caption>A tibble: 6 × 17</caption>\n",
       "<thead>\n",
       "\t<tr><th scope=col>salary</th><th scope=col>age</th><th scope=col>college</th><th scope=col>grad</th><th scope=col>comten</th><th scope=col>ceoten</th><th scope=col>sales</th><th scope=col>profits</th><th scope=col>mktval</th><th scope=col>lsalary</th><th scope=col>lsales</th><th scope=col>lmktval</th><th scope=col>comtensq</th><th scope=col>ceotensq</th><th scope=col>profmarg</th><th scope=col>d_comten_sq</th><th scope=col>d_ceoten_sq</th></tr>\n",
       "\t<tr><th scope=col>&lt;int&gt;</th><th scope=col>&lt;int&gt;</th><th scope=col>&lt;int&gt;</th><th scope=col>&lt;int&gt;</th><th scope=col>&lt;int&gt;</th><th scope=col>&lt;int&gt;</th><th scope=col>&lt;dbl&gt;</th><th scope=col>&lt;int&gt;</th><th scope=col>&lt;dbl&gt;</th><th scope=col>&lt;dbl&gt;</th><th scope=col>&lt;dbl&gt;</th><th scope=col>&lt;dbl&gt;</th><th scope=col>&lt;int&gt;</th><th scope=col>&lt;int&gt;</th><th scope=col>&lt;dbl&gt;</th><th scope=col>&lt;dbl&gt;</th><th scope=col>&lt;dbl&gt;</th></tr>\n",
       "</thead>\n",
       "<tbody>\n",
       "\t<tr><td>1161</td><td>49</td><td>1</td><td>1</td><td> 9</td><td> 2</td><td> 6200</td><td>966</td><td>23200</td><td>7.057037</td><td>8.732305</td><td>10.051908</td><td> 81</td><td>  4</td><td>15.580646</td><td>173.56530557</td><td> 33.9373986</td></tr>\n",
       "\t<tr><td> 600</td><td>43</td><td>1</td><td>1</td><td>10</td><td>10</td><td>  283</td><td> 48</td><td> 1100</td><td>6.396930</td><td>5.645447</td><td> 7.003066</td><td>100</td><td>100</td><td>16.961130</td><td>148.21646836</td><td>  4.7280963</td></tr>\n",
       "\t<tr><td> 379</td><td>51</td><td>1</td><td>1</td><td> 9</td><td> 3</td><td>  169</td><td> 40</td><td> 1100</td><td>5.937536</td><td>5.129899</td><td> 7.003066</td><td> 81</td><td>  9</td><td>23.668638</td><td>173.56530557</td><td> 23.2862358</td></tr>\n",
       "\t<tr><td> 651</td><td>55</td><td>1</td><td>0</td><td>22</td><td>22</td><td> 1100</td><td>-54</td><td> 1000</td><td>6.478509</td><td>7.003066</td><td> 6.907755</td><td>484</td><td>484</td><td>-4.909091</td><td>  0.03042185</td><td>200.9141428</td></tr>\n",
       "\t<tr><td> 497</td><td>44</td><td>1</td><td>1</td><td> 8</td><td> 6</td><td>  351</td><td> 28</td><td>  387</td><td>6.208590</td><td>5.860786</td><td> 5.958425</td><td> 64</td><td> 36</td><td> 7.977208</td><td>200.91414278</td><td>  3.3327474</td></tr>\n",
       "\t<tr><td>1067</td><td>64</td><td>1</td><td>1</td><td> 7</td><td> 7</td><td>19000</td><td>614</td><td> 3900</td><td>6.972606</td><td>9.852194</td><td> 8.268732</td><td> 49</td><td> 49</td><td> 3.231579</td><td>230.26297999</td><td>  0.6815846</td></tr>\n",
       "</tbody>\n",
       "</table>\n"
      ],
      "text/latex": [
       "A tibble: 6 × 17\n",
       "\\begin{tabular}{lllllllllllllllll}\n",
       " salary & age & college & grad & comten & ceoten & sales & profits & mktval & lsalary & lsales & lmktval & comtensq & ceotensq & profmarg & d\\_comten\\_sq & d\\_ceoten\\_sq\\\\\n",
       " <int> & <int> & <int> & <int> & <int> & <int> & <dbl> & <int> & <dbl> & <dbl> & <dbl> & <dbl> & <int> & <int> & <dbl> & <dbl> & <dbl>\\\\\n",
       "\\hline\n",
       "\t 1161 & 49 & 1 & 1 &  9 &  2 &  6200 & 966 & 23200 & 7.057037 & 8.732305 & 10.051908 &  81 &   4 & 15.580646 & 173.56530557 &  33.9373986\\\\\n",
       "\t  600 & 43 & 1 & 1 & 10 & 10 &   283 &  48 &  1100 & 6.396930 & 5.645447 &  7.003066 & 100 & 100 & 16.961130 & 148.21646836 &   4.7280963\\\\\n",
       "\t  379 & 51 & 1 & 1 &  9 &  3 &   169 &  40 &  1100 & 5.937536 & 5.129899 &  7.003066 &  81 &   9 & 23.668638 & 173.56530557 &  23.2862358\\\\\n",
       "\t  651 & 55 & 1 & 0 & 22 & 22 &  1100 & -54 &  1000 & 6.478509 & 7.003066 &  6.907755 & 484 & 484 & -4.909091 &   0.03042185 & 200.9141428\\\\\n",
       "\t  497 & 44 & 1 & 1 &  8 &  6 &   351 &  28 &   387 & 6.208590 & 5.860786 &  5.958425 &  64 &  36 &  7.977208 & 200.91414278 &   3.3327474\\\\\n",
       "\t 1067 & 64 & 1 & 1 &  7 &  7 & 19000 & 614 &  3900 & 6.972606 & 9.852194 &  8.268732 &  49 &  49 &  3.231579 & 230.26297999 &   0.6815846\\\\\n",
       "\\end{tabular}\n"
      ],
      "text/markdown": [
       "\n",
       "A tibble: 6 × 17\n",
       "\n",
       "| salary &lt;int&gt; | age &lt;int&gt; | college &lt;int&gt; | grad &lt;int&gt; | comten &lt;int&gt; | ceoten &lt;int&gt; | sales &lt;dbl&gt; | profits &lt;int&gt; | mktval &lt;dbl&gt; | lsalary &lt;dbl&gt; | lsales &lt;dbl&gt; | lmktval &lt;dbl&gt; | comtensq &lt;int&gt; | ceotensq &lt;int&gt; | profmarg &lt;dbl&gt; | d_comten_sq &lt;dbl&gt; | d_ceoten_sq &lt;dbl&gt; |\n",
       "|---|---|---|---|---|---|---|---|---|---|---|---|---|---|---|---|---|\n",
       "| 1161 | 49 | 1 | 1 |  9 |  2 |  6200 | 966 | 23200 | 7.057037 | 8.732305 | 10.051908 |  81 |   4 | 15.580646 | 173.56530557 |  33.9373986 |\n",
       "|  600 | 43 | 1 | 1 | 10 | 10 |   283 |  48 |  1100 | 6.396930 | 5.645447 |  7.003066 | 100 | 100 | 16.961130 | 148.21646836 |   4.7280963 |\n",
       "|  379 | 51 | 1 | 1 |  9 |  3 |   169 |  40 |  1100 | 5.937536 | 5.129899 |  7.003066 |  81 |   9 | 23.668638 | 173.56530557 |  23.2862358 |\n",
       "|  651 | 55 | 1 | 0 | 22 | 22 |  1100 | -54 |  1000 | 6.478509 | 7.003066 |  6.907755 | 484 | 484 | -4.909091 |   0.03042185 | 200.9141428 |\n",
       "|  497 | 44 | 1 | 1 |  8 |  6 |   351 |  28 |   387 | 6.208590 | 5.860786 |  5.958425 |  64 |  36 |  7.977208 | 200.91414278 |   3.3327474 |\n",
       "| 1067 | 64 | 1 | 1 |  7 |  7 | 19000 | 614 |  3900 | 6.972606 | 9.852194 |  8.268732 |  49 |  49 |  3.231579 | 230.26297999 |   0.6815846 |\n",
       "\n"
      ],
      "text/plain": [
       "  salary age college grad comten ceoten sales profits mktval lsalary  lsales  \n",
       "1 1161   49  1       1     9      2      6200 966     23200  7.057037 8.732305\n",
       "2  600   43  1       1    10     10       283  48      1100  6.396930 5.645447\n",
       "3  379   51  1       1     9      3       169  40      1100  5.937536 5.129899\n",
       "4  651   55  1       0    22     22      1100 -54      1000  6.478509 7.003066\n",
       "5  497   44  1       1     8      6       351  28       387  6.208590 5.860786\n",
       "6 1067   64  1       1     7      7     19000 614      3900  6.972606 9.852194\n",
       "  lmktval   comtensq ceotensq profmarg  d_comten_sq  d_ceoten_sq\n",
       "1 10.051908  81        4      15.580646 173.56530557  33.9373986\n",
       "2  7.003066 100      100      16.961130 148.21646836   4.7280963\n",
       "3  7.003066  81        9      23.668638 173.56530557  23.2862358\n",
       "4  6.907755 484      484      -4.909091   0.03042185 200.9141428\n",
       "5  5.958425  64       36       7.977208 200.91414278   3.3327474\n",
       "6  8.268732  49       49       3.231579 230.26297999   0.6815846"
      ]
     },
     "metadata": {},
     "output_type": "display_data"
    }
   ],
   "source": [
    "#Estimating and adding d_comten_sq to df\n",
    "d_comten_sq <- c((df$comten - avg_comten_1)^2)\n",
    "df$d_comten_sq <- d_comten_sq\n",
    "#Estimating and adding d_ceoten_sq to df\n",
    "d_ceoten_sq <- c((df$ceoten - avg_ceoten_1)^2)\n",
    "df$d_ceoten_sq <- d_ceoten_sq\n",
    "#Displaying df\n",
    "head(df)"
   ]
  },
  {
   "cell_type": "markdown",
   "metadata": {},
   "source": [
    "5. Print the sample median of ```d_comten_sq``` and ```d_ceoten_sq```."
   ]
  },
  {
   "cell_type": "code",
   "execution_count": 6,
   "metadata": {},
   "outputs": [
    {
     "name": "stdout",
     "output_type": "stream",
     "text": [
      "[1] \"Median of d_comten_sq:  117.193212547323\"\n",
      "[1] \"Median of d_ceoten_sq:  23.2862358031368\"\n"
     ]
    }
   ],
   "source": [
    "#Sample median of d_comten_sq and d_ceoten_sq\n",
    "print(paste(\"Median of d_comten_sq: \",median(df$d_comten_sq)))\n",
    "print(paste(\"Median of d_ceoten_sq: \",median(df$d_ceoten_sq)))"
   ]
  },
  {
   "cell_type": "markdown",
   "metadata": {},
   "source": [
    "6. Using this [online post](https://wilkelab.org/classes/SDS348/2016_spring/projects/project1/project1_hints.html) proceed to divide the data set into three evenly-sized groups corresponding to *small*, *medium*, and *large* sized firms in term of ```lsales```, and add dummy variables ```small```, ```medium```, and ```large``` to your data set."
   ]
  },
  {
   "cell_type": "code",
   "execution_count": 7,
   "metadata": {},
   "outputs": [
    {
     "data": {
      "text/html": [
       "<table>\n",
       "<caption>A tibble: 6 × 20</caption>\n",
       "<thead>\n",
       "\t<tr><th scope=col>salary</th><th scope=col>age</th><th scope=col>college</th><th scope=col>grad</th><th scope=col>comten</th><th scope=col>ceoten</th><th scope=col>sales</th><th scope=col>profits</th><th scope=col>mktval</th><th scope=col>lsalary</th><th scope=col>lsales</th><th scope=col>lmktval</th><th scope=col>comtensq</th><th scope=col>ceotensq</th><th scope=col>profmarg</th><th scope=col>d_comten_sq</th><th scope=col>d_ceoten_sq</th><th scope=col>small</th><th scope=col>medium</th><th scope=col>large</th></tr>\n",
       "\t<tr><th scope=col>&lt;int&gt;</th><th scope=col>&lt;int&gt;</th><th scope=col>&lt;int&gt;</th><th scope=col>&lt;int&gt;</th><th scope=col>&lt;int&gt;</th><th scope=col>&lt;int&gt;</th><th scope=col>&lt;dbl&gt;</th><th scope=col>&lt;int&gt;</th><th scope=col>&lt;dbl&gt;</th><th scope=col>&lt;dbl&gt;</th><th scope=col>&lt;dbl&gt;</th><th scope=col>&lt;dbl&gt;</th><th scope=col>&lt;int&gt;</th><th scope=col>&lt;int&gt;</th><th scope=col>&lt;dbl&gt;</th><th scope=col>&lt;dbl&gt;</th><th scope=col>&lt;dbl&gt;</th><th scope=col>&lt;dbl&gt;</th><th scope=col>&lt;dbl&gt;</th><th scope=col>&lt;dbl&gt;</th></tr>\n",
       "</thead>\n",
       "<tbody>\n",
       "\t<tr><td>1161</td><td>49</td><td>1</td><td>1</td><td> 9</td><td> 2</td><td> 6200</td><td>966</td><td>23200</td><td>7.057037</td><td>8.732305</td><td>10.051908</td><td> 81</td><td>  4</td><td>15.580646</td><td>173.56530557</td><td> 33.9373986</td><td>0</td><td>0</td><td>1</td></tr>\n",
       "\t<tr><td> 600</td><td>43</td><td>1</td><td>1</td><td>10</td><td>10</td><td>  283</td><td> 48</td><td> 1100</td><td>6.396930</td><td>5.645447</td><td> 7.003066</td><td>100</td><td>100</td><td>16.961130</td><td>148.21646836</td><td>  4.7280963</td><td>1</td><td>0</td><td>0</td></tr>\n",
       "\t<tr><td> 379</td><td>51</td><td>1</td><td>1</td><td> 9</td><td> 3</td><td>  169</td><td> 40</td><td> 1100</td><td>5.937536</td><td>5.129899</td><td> 7.003066</td><td> 81</td><td>  9</td><td>23.668638</td><td>173.56530557</td><td> 23.2862358</td><td>1</td><td>0</td><td>0</td></tr>\n",
       "\t<tr><td> 651</td><td>55</td><td>1</td><td>0</td><td>22</td><td>22</td><td> 1100</td><td>-54</td><td> 1000</td><td>6.478509</td><td>7.003066</td><td> 6.907755</td><td>484</td><td>484</td><td>-4.909091</td><td>  0.03042185</td><td>200.9141428</td><td>0</td><td>1</td><td>0</td></tr>\n",
       "\t<tr><td> 497</td><td>44</td><td>1</td><td>1</td><td> 8</td><td> 6</td><td>  351</td><td> 28</td><td>  387</td><td>6.208590</td><td>5.860786</td><td> 5.958425</td><td> 64</td><td> 36</td><td> 7.977208</td><td>200.91414278</td><td>  3.3327474</td><td>1</td><td>0</td><td>0</td></tr>\n",
       "\t<tr><td>1067</td><td>64</td><td>1</td><td>1</td><td> 7</td><td> 7</td><td>19000</td><td>614</td><td> 3900</td><td>6.972606</td><td>9.852194</td><td> 8.268732</td><td> 49</td><td> 49</td><td> 3.231579</td><td>230.26297999</td><td>  0.6815846</td><td>0</td><td>0</td><td>1</td></tr>\n",
       "</tbody>\n",
       "</table>\n"
      ],
      "text/latex": [
       "A tibble: 6 × 20\n",
       "\\begin{tabular}{llllllllllllllllllll}\n",
       " salary & age & college & grad & comten & ceoten & sales & profits & mktval & lsalary & lsales & lmktval & comtensq & ceotensq & profmarg & d\\_comten\\_sq & d\\_ceoten\\_sq & small & medium & large\\\\\n",
       " <int> & <int> & <int> & <int> & <int> & <int> & <dbl> & <int> & <dbl> & <dbl> & <dbl> & <dbl> & <int> & <int> & <dbl> & <dbl> & <dbl> & <dbl> & <dbl> & <dbl>\\\\\n",
       "\\hline\n",
       "\t 1161 & 49 & 1 & 1 &  9 &  2 &  6200 & 966 & 23200 & 7.057037 & 8.732305 & 10.051908 &  81 &   4 & 15.580646 & 173.56530557 &  33.9373986 & 0 & 0 & 1\\\\\n",
       "\t  600 & 43 & 1 & 1 & 10 & 10 &   283 &  48 &  1100 & 6.396930 & 5.645447 &  7.003066 & 100 & 100 & 16.961130 & 148.21646836 &   4.7280963 & 1 & 0 & 0\\\\\n",
       "\t  379 & 51 & 1 & 1 &  9 &  3 &   169 &  40 &  1100 & 5.937536 & 5.129899 &  7.003066 &  81 &   9 & 23.668638 & 173.56530557 &  23.2862358 & 1 & 0 & 0\\\\\n",
       "\t  651 & 55 & 1 & 0 & 22 & 22 &  1100 & -54 &  1000 & 6.478509 & 7.003066 &  6.907755 & 484 & 484 & -4.909091 &   0.03042185 & 200.9141428 & 0 & 1 & 0\\\\\n",
       "\t  497 & 44 & 1 & 1 &  8 &  6 &   351 &  28 &   387 & 6.208590 & 5.860786 &  5.958425 &  64 &  36 &  7.977208 & 200.91414278 &   3.3327474 & 1 & 0 & 0\\\\\n",
       "\t 1067 & 64 & 1 & 1 &  7 &  7 & 19000 & 614 &  3900 & 6.972606 & 9.852194 &  8.268732 &  49 &  49 &  3.231579 & 230.26297999 &   0.6815846 & 0 & 0 & 1\\\\\n",
       "\\end{tabular}\n"
      ],
      "text/markdown": [
       "\n",
       "A tibble: 6 × 20\n",
       "\n",
       "| salary &lt;int&gt; | age &lt;int&gt; | college &lt;int&gt; | grad &lt;int&gt; | comten &lt;int&gt; | ceoten &lt;int&gt; | sales &lt;dbl&gt; | profits &lt;int&gt; | mktval &lt;dbl&gt; | lsalary &lt;dbl&gt; | lsales &lt;dbl&gt; | lmktval &lt;dbl&gt; | comtensq &lt;int&gt; | ceotensq &lt;int&gt; | profmarg &lt;dbl&gt; | d_comten_sq &lt;dbl&gt; | d_ceoten_sq &lt;dbl&gt; | small &lt;dbl&gt; | medium &lt;dbl&gt; | large &lt;dbl&gt; |\n",
       "|---|---|---|---|---|---|---|---|---|---|---|---|---|---|---|---|---|---|---|---|\n",
       "| 1161 | 49 | 1 | 1 |  9 |  2 |  6200 | 966 | 23200 | 7.057037 | 8.732305 | 10.051908 |  81 |   4 | 15.580646 | 173.56530557 |  33.9373986 | 0 | 0 | 1 |\n",
       "|  600 | 43 | 1 | 1 | 10 | 10 |   283 |  48 |  1100 | 6.396930 | 5.645447 |  7.003066 | 100 | 100 | 16.961130 | 148.21646836 |   4.7280963 | 1 | 0 | 0 |\n",
       "|  379 | 51 | 1 | 1 |  9 |  3 |   169 |  40 |  1100 | 5.937536 | 5.129899 |  7.003066 |  81 |   9 | 23.668638 | 173.56530557 |  23.2862358 | 1 | 0 | 0 |\n",
       "|  651 | 55 | 1 | 0 | 22 | 22 |  1100 | -54 |  1000 | 6.478509 | 7.003066 |  6.907755 | 484 | 484 | -4.909091 |   0.03042185 | 200.9141428 | 0 | 1 | 0 |\n",
       "|  497 | 44 | 1 | 1 |  8 |  6 |   351 |  28 |   387 | 6.208590 | 5.860786 |  5.958425 |  64 |  36 |  7.977208 | 200.91414278 |   3.3327474 | 1 | 0 | 0 |\n",
       "| 1067 | 64 | 1 | 1 |  7 |  7 | 19000 | 614 |  3900 | 6.972606 | 9.852194 |  8.268732 |  49 |  49 |  3.231579 | 230.26297999 |   0.6815846 | 0 | 0 | 1 |\n",
       "\n"
      ],
      "text/plain": [
       "  salary age college grad comten ceoten sales profits mktval lsalary  lsales  \n",
       "1 1161   49  1       1     9      2      6200 966     23200  7.057037 8.732305\n",
       "2  600   43  1       1    10     10       283  48      1100  6.396930 5.645447\n",
       "3  379   51  1       1     9      3       169  40      1100  5.937536 5.129899\n",
       "4  651   55  1       0    22     22      1100 -54      1000  6.478509 7.003066\n",
       "5  497   44  1       1     8      6       351  28       387  6.208590 5.860786\n",
       "6 1067   64  1       1     7      7     19000 614      3900  6.972606 9.852194\n",
       "  lmktval   comtensq ceotensq profmarg  d_comten_sq  d_ceoten_sq small medium\n",
       "1 10.051908  81        4      15.580646 173.56530557  33.9373986 0     0     \n",
       "2  7.003066 100      100      16.961130 148.21646836   4.7280963 1     0     \n",
       "3  7.003066  81        9      23.668638 173.56530557  23.2862358 1     0     \n",
       "4  6.907755 484      484      -4.909091   0.03042185 200.9141428 0     1     \n",
       "5  5.958425  64       36       7.977208 200.91414278   3.3327474 1     0     \n",
       "6  8.268732  49       49       3.231579 230.26297999   0.6815846 0     0     \n",
       "  large\n",
       "1 1    \n",
       "2 0    \n",
       "3 0    \n",
       "4 0    \n",
       "5 0    \n",
       "6 1    "
      ]
     },
     "metadata": {},
     "output_type": "display_data"
    }
   ],
   "source": [
    "#Create new data fram ceosal2_sized with lsales column\n",
    "df %>% mutate(lsale_size = ntile(lsales, 3)) -> df_sized\n",
    "#Create vectors small, medium, and large based on lsales column\n",
    "small <- as.numeric(df_sized$lsale_size == 1)\n",
    "medium <- as.numeric(df_sized$lsale_size == 2)\n",
    "large <- as.numeric(df_sized$lsale_size == 3)\n",
    "#Assign dummy variables in small, medium, and large vectors to ceosal2_sized\n",
    "df_sized$small <- small\n",
    "df_sized$medium <- medium\n",
    "df_sized$large <- large\n",
    "#Delete lsales column in ceosal2_sized\n",
    "df_sized$lsale_size <- NULL \n",
    "#Display first 6 lines of ceosal2_sized\n",
    "head(df_sized)"
   ]
  },
  {
   "cell_type": "markdown",
   "metadata": {},
   "source": [
    "7. Estimate $E[\\texttt{salary}|\\texttt{small}=1]$, $E[\\texttt{salary}|\\texttt{medium}=1]$, and $E[\\texttt{salary}|\\texttt{large}=1]$, and print these values."
   ]
  },
  {
   "cell_type": "code",
   "execution_count": 8,
   "metadata": {},
   "outputs": [
    {
     "name": "stdout",
     "output_type": "stream",
     "text": [
      "[1] \"E[salary|small = 1]:  617.237288135593\"\n",
      "[1] \"E[salary|medium = 1]:  836.440677966102\"\n",
      "[1] \"E[salary|large = 1]:  1143.91525423729\"\n"
     ]
    }
   ],
   "source": [
    "#Estimate expected salary given dummy variables small, medium, and large\n",
    "sal_small = colMeans(df_sized[small == 1,\"salary\"])\n",
    "sal_medium = colMeans(df_sized[medium == 1,\"salary\"])\n",
    "sal_large = colMeans(df_sized[large == 1,\"salary\"])\n",
    "#Print expected conditional salary values\n",
    "print(paste(\"E[salary|small = 1]: \",sal_small))\n",
    "print(paste(\"E[salary|medium = 1]: \",sal_medium))\n",
    "print(paste(\"E[salary|large = 1]: \",sal_large))"
   ]
  },
  {
   "cell_type": "markdown",
   "metadata": {},
   "source": [
    "8. Now consider the following model\n",
    "\n",
    "$$\n",
    "\\texttt{lsalary}=\\beta_0+\\beta_1\\texttt{grad}+\\beta_2\\texttt{medium}+\\beta_3\\texttt{large}+\\beta_4\\texttt{lmktval}+\\beta_5\\texttt{comten}+\\beta_6\\texttt{ceoten}+\\beta_7\\texttt{d}\\_\\texttt{comten}\\_\\texttt{sq}+\\beta_8\\texttt{d}\\_\\texttt{ceoten}\\_\\texttt{sq}+e\\text{.}\n",
    "$$\n",
    "\n",
    "Is there perfect multicollinearity?"
   ]
  },
  {
   "cell_type": "code",
   "execution_count": 12,
   "metadata": {},
   "outputs": [
    {
     "name": "stdout",
     "output_type": "stream",
     "text": [
      "lsalary ~ grad + medium + large + lmktval + comten + ceoten + \n",
      "    d_comten_sq + d_ceoten_sq\n",
      "[1] \"There is no perfect multicollinearity\"\n"
     ]
    }
   ],
   "source": [
    "#Specify outcome variable (y) and regressors\n",
    "outcome <- \"lsalary\"\n",
    "predictors <- c(\"grad\",\"medium\",\"large\",\"lmktval\",\"comten\",\"ceoten\",\"d_comten_sq\",\"d_ceoten_sq\")\n",
    "\n",
    "#Create specification for the linear model and print the model\n",
    "f <- as.formula(\n",
    "                paste(outcome, \n",
    "                    paste(predictors, collapse = \" + \"), \n",
    "                sep = \" ~ \"))\n",
    "print(f)\n",
    "\n",
    "#Create design matrix based on linear model\n",
    "X <- model.matrix(f,data=df_sized)\n",
    "#Create sample counterpart of E[xx'] for use to test for perfect multicollinearity\n",
    "X.X.n <- t(X)%*%X/nrow(X)\n",
    "\n",
    "#Check if the rank of the matrix is equal to the number of columns and print relevant result\n",
    "if(qr(X.X.n)$rank == dim(X)[2]) {\n",
    "    print ('There is no perfect multicollinearity')\n",
    "    } else {\n",
    "    print ('There is perfect multicollinearity')\n",
    "}"
   ]
  },
  {
   "cell_type": "markdown",
   "metadata": {},
   "source": [
    "9. You are told that a *better* model would one where *each* dummy variable in the previous specification is interacted with the remaining features. Print the dimensions of the corresponding **design matrix**, $\\mathbf{X}$, for this case and check that $\\mathbf{X}^{\\prime}\\mathbf{X}$ is invertible for this model."
   ]
  },
  {
   "cell_type": "code",
   "execution_count": 15,
   "metadata": {},
   "outputs": [
    {
     "data": {
      "text/html": [
       "<style>\n",
       ".list-inline {list-style: none; margin:0; padding: 0}\n",
       ".list-inline>li {display: inline-block}\n",
       ".list-inline>li:not(:last-child)::after {content: \"\\00b7\"; padding: 0 .5ex}\n",
       "</style>\n",
       "<ol class=list-inline><li>177</li><li>16</li></ol>\n"
      ],
      "text/latex": [
       "\\begin{enumerate*}\n",
       "\\item 177\n",
       "\\item 16\n",
       "\\end{enumerate*}\n"
      ],
      "text/markdown": [
       "1. 177\n",
       "2. 16\n",
       "\n",
       "\n"
      ],
      "text/plain": [
       "[1] 177  16"
      ]
     },
     "metadata": {},
     "output_type": "display_data"
    },
    {
     "data": {
      "text/html": [
       "<table>\n",
       "<caption>A matrix: 16 × 16 of type dbl</caption>\n",
       "<thead>\n",
       "\t<tr><th></th><th scope=col>(Intercept)</th><th scope=col>lmktval:grad</th><th scope=col>grad:comten</th><th scope=col>grad:ceoten</th><th scope=col>grad:d_comten_sq</th><th scope=col>grad:d_ceoten_sq</th><th scope=col>lmktval:medium</th><th scope=col>comten:medium</th><th scope=col>ceoten:medium</th><th scope=col>d_comten_sq:medium</th><th scope=col>d_ceoten_sq:medium</th><th scope=col>lmktval:large</th><th scope=col>comten:large</th><th scope=col>ceoten:large</th><th scope=col>d_comten_sq:large</th><th scope=col>d_ceoten_sq:large</th></tr>\n",
       "</thead>\n",
       "<tbody>\n",
       "\t<tr><th scope=row>(Intercept)</th><td> 4.094726398</td><td>-0.223046910</td><td> 5.073638e-02</td><td>-0.1205747639</td><td>-5.072908e-03</td><td> 5.725806e-03</td><td>-0.380202945</td><td>-4.111030e-02</td><td> 2.502488e-02</td><td> 1.151399e-03</td><td>-1.249124e-03</td><td>-0.211252299</td><td>-6.132961e-02</td><td> 7.558256e-02</td><td> 1.801023e-03</td><td>-3.271602e-03</td></tr>\n",
       "\t<tr><th scope=row>lmktval:grad</th><td>-0.223046910</td><td> 0.541721149</td><td>-9.500642e-02</td><td>-0.0839916131</td><td>-7.797259e-03</td><td> 3.650154e-03</td><td>-0.206307393</td><td> 3.731700e-02</td><td> 6.119194e-02</td><td> 1.833650e-03</td><td>-3.116940e-03</td><td>-0.285885071</td><td> 6.026788e-02</td><td> 2.431977e-02</td><td> 3.600393e-03</td><td>-2.204217e-03</td></tr>\n",
       "\t<tr><th scope=row>grad:comten</th><td> 0.050736377</td><td>-0.095006424</td><td> 3.249523e-02</td><td>-0.0096440424</td><td> 9.542546e-04</td><td>-5.708075e-04</td><td> 0.025647068</td><td>-1.158903e-02</td><td> 1.454230e-03</td><td> 8.891578e-05</td><td> 1.798088e-04</td><td> 0.051215793</td><td>-2.059646e-02</td><td> 9.489883e-03</td><td>-4.029479e-04</td><td> 4.606319e-04</td></tr>\n",
       "\t<tr><th scope=row>grad:ceoten</th><td>-0.120574764</td><td>-0.083991613</td><td>-9.644042e-03</td><td> 0.1501049654</td><td> 9.232463e-04</td><td>-9.212066e-03</td><td> 0.082414910</td><td>-9.787850e-04</td><td>-6.974593e-02</td><td>-2.186917e-04</td><td> 2.800358e-03</td><td> 0.049412100</td><td> 8.100670e-03</td><td>-8.970743e-02</td><td>-2.005113e-04</td><td> 5.438931e-03</td></tr>\n",
       "\t<tr><th scope=row>grad:d_comten_sq</th><td>-0.005072908</td><td>-0.007797259</td><td> 9.542546e-04</td><td> 0.0009232463</td><td> 2.587383e-04</td><td>-6.664354e-05</td><td> 0.003127186</td><td>-9.971302e-05</td><td>-4.345818e-04</td><td>-8.693775e-05</td><td> 3.390741e-05</td><td> 0.004286872</td><td>-4.394115e-04</td><td>-3.214892e-05</td><td>-1.400582e-04</td><td> 5.739400e-05</td></tr>\n",
       "\t<tr><th scope=row>grad:d_ceoten_sq</th><td> 0.005725806</td><td> 0.003650154</td><td>-5.708075e-04</td><td>-0.0092120661</td><td>-6.664354e-05</td><td> 1.490626e-03</td><td>-0.003818704</td><td> 2.118337e-04</td><td> 2.732399e-03</td><td> 1.962541e-05</td><td>-1.505858e-04</td><td>-0.003419846</td><td> 4.888636e-04</td><td> 5.521673e-03</td><td> 7.589322e-05</td><td>-9.273405e-04</td></tr>\n",
       "\t<tr><th scope=row>lmktval:medium</th><td>-0.380202945</td><td>-0.206307393</td><td> 2.564707e-02</td><td> 0.0824149098</td><td> 3.127186e-03</td><td>-3.818704e-03</td><td> 0.621387356</td><td>-9.227714e-02</td><td>-1.662643e-01</td><td>-4.034064e-03</td><td> 8.447704e-03</td><td> 0.151057984</td><td>-1.411182e-02</td><td>-3.924641e-02</td><td>-1.279868e-03</td><td> 2.070207e-03</td></tr>\n",
       "\t<tr><th scope=row>comten:medium</th><td>-0.041110304</td><td> 0.037317001</td><td>-1.158903e-02</td><td>-0.0009787850</td><td>-9.971302e-05</td><td> 2.118337e-04</td><td>-0.092277143</td><td> 3.325497e-02</td><td> 2.665429e-03</td><td>-6.762061e-04</td><td>-6.839580e-04</td><td>-0.018830208</td><td> 7.658727e-03</td><td>-5.641017e-04</td><td>-1.656230e-05</td><td>-1.240538e-04</td></tr>\n",
       "\t<tr><th scope=row>ceoten:medium</th><td> 0.025024880</td><td> 0.061191936</td><td> 1.454230e-03</td><td>-0.0697459320</td><td>-4.345818e-04</td><td> 2.732399e-03</td><td>-0.166264335</td><td> 2.665429e-03</td><td> 1.675035e-01</td><td> 1.065015e-03</td><td>-6.915146e-03</td><td>-0.031791359</td><td>-1.843347e-03</td><td> 4.088812e-02</td><td>-2.571991e-05</td><td>-1.512109e-03</td></tr>\n",
       "\t<tr><th scope=row>d_comten_sq:medium</th><td> 0.001151399</td><td> 0.001833650</td><td> 8.891578e-05</td><td>-0.0002186917</td><td>-8.693775e-05</td><td> 1.962541e-05</td><td>-0.004034064</td><td>-6.762061e-04</td><td> 1.065015e-03</td><td> 3.244752e-04</td><td>-9.476224e-05</td><td>-0.001018034</td><td>-8.284892e-05</td><td>-5.141330e-05</td><td> 5.182002e-05</td><td>-1.594038e-05</td></tr>\n",
       "\t<tr><th scope=row>d_ceoten_sq:medium</th><td>-0.001249124</td><td>-0.003116940</td><td> 1.798088e-04</td><td> 0.0028003583</td><td> 3.390741e-05</td><td>-1.505858e-04</td><td> 0.008447704</td><td>-6.839580e-04</td><td>-6.915146e-03</td><td>-9.476224e-05</td><td> 4.080269e-04</td><td> 0.001691304</td><td>-7.322740e-05</td><td>-1.607567e-03</td><td>-9.339924e-06</td><td> 8.835807e-05</td></tr>\n",
       "\t<tr><th scope=row>lmktval:large</th><td>-0.211252299</td><td>-0.285885071</td><td> 5.121579e-02</td><td> 0.0494121005</td><td> 4.286872e-03</td><td>-3.419846e-03</td><td> 0.151057984</td><td>-1.883021e-02</td><td>-3.179136e-02</td><td>-1.018034e-03</td><td> 1.691304e-03</td><td> 0.514564088</td><td>-9.727132e-02</td><td>-7.328151e-02</td><td>-6.397592e-03</td><td> 5.893618e-03</td></tr>\n",
       "\t<tr><th scope=row>comten:large</th><td>-0.061329613</td><td> 0.060267877</td><td>-2.059646e-02</td><td> 0.0081006701</td><td>-4.394115e-04</td><td> 4.888636e-04</td><td>-0.014111816</td><td> 7.658727e-03</td><td>-1.843347e-03</td><td>-8.284892e-05</td><td>-7.322740e-05</td><td>-0.097271315</td><td> 3.793683e-02</td><td>-1.715514e-02</td><td> 6.099753e-04</td><td>-7.037140e-04</td></tr>\n",
       "\t<tr><th scope=row>ceoten:large</th><td> 0.075582561</td><td> 0.024319765</td><td> 9.489883e-03</td><td>-0.0897074304</td><td>-3.214892e-05</td><td> 5.521673e-03</td><td>-0.039246407</td><td>-5.641017e-04</td><td> 4.088812e-02</td><td>-5.141330e-05</td><td>-1.607567e-03</td><td>-0.073281512</td><td>-1.715514e-02</td><td> 1.999418e-01</td><td> 3.092659e-04</td><td>-1.222330e-02</td></tr>\n",
       "\t<tr><th scope=row>d_comten_sq:large</th><td> 0.001801023</td><td> 0.003600393</td><td>-4.029479e-04</td><td>-0.0002005113</td><td>-1.400582e-04</td><td> 7.589322e-05</td><td>-0.001279868</td><td>-1.656230e-05</td><td>-2.571991e-05</td><td> 5.182002e-05</td><td>-9.339924e-06</td><td>-0.006397592</td><td> 6.099753e-04</td><td> 3.092659e-04</td><td> 2.791197e-04</td><td>-1.395608e-04</td></tr>\n",
       "\t<tr><th scope=row>d_ceoten_sq:large</th><td>-0.003271602</td><td>-0.002204217</td><td> 4.606319e-04</td><td> 0.0054389309</td><td> 5.739400e-05</td><td>-9.273405e-04</td><td> 0.002070207</td><td>-1.240538e-04</td><td>-1.512109e-03</td><td>-1.594038e-05</td><td> 8.835807e-05</td><td> 0.005893618</td><td>-7.037140e-04</td><td>-1.222330e-02</td><td>-1.395608e-04</td><td> 1.806222e-03</td></tr>\n",
       "</tbody>\n",
       "</table>\n"
      ],
      "text/latex": [
       "A matrix: 16 × 16 of type dbl\n",
       "\\begin{tabular}{r|llllllllllllllll}\n",
       "  & (Intercept) & lmktval:grad & grad:comten & grad:ceoten & grad:d\\_comten\\_sq & grad:d\\_ceoten\\_sq & lmktval:medium & comten:medium & ceoten:medium & d\\_comten\\_sq:medium & d\\_ceoten\\_sq:medium & lmktval:large & comten:large & ceoten:large & d\\_comten\\_sq:large & d\\_ceoten\\_sq:large\\\\\n",
       "\\hline\n",
       "\t(Intercept) &  4.094726398 & -0.223046910 &  5.073638e-02 & -0.1205747639 & -5.072908e-03 &  5.725806e-03 & -0.380202945 & -4.111030e-02 &  2.502488e-02 &  1.151399e-03 & -1.249124e-03 & -0.211252299 & -6.132961e-02 &  7.558256e-02 &  1.801023e-03 & -3.271602e-03\\\\\n",
       "\tlmktval:grad & -0.223046910 &  0.541721149 & -9.500642e-02 & -0.0839916131 & -7.797259e-03 &  3.650154e-03 & -0.206307393 &  3.731700e-02 &  6.119194e-02 &  1.833650e-03 & -3.116940e-03 & -0.285885071 &  6.026788e-02 &  2.431977e-02 &  3.600393e-03 & -2.204217e-03\\\\\n",
       "\tgrad:comten &  0.050736377 & -0.095006424 &  3.249523e-02 & -0.0096440424 &  9.542546e-04 & -5.708075e-04 &  0.025647068 & -1.158903e-02 &  1.454230e-03 &  8.891578e-05 &  1.798088e-04 &  0.051215793 & -2.059646e-02 &  9.489883e-03 & -4.029479e-04 &  4.606319e-04\\\\\n",
       "\tgrad:ceoten & -0.120574764 & -0.083991613 & -9.644042e-03 &  0.1501049654 &  9.232463e-04 & -9.212066e-03 &  0.082414910 & -9.787850e-04 & -6.974593e-02 & -2.186917e-04 &  2.800358e-03 &  0.049412100 &  8.100670e-03 & -8.970743e-02 & -2.005113e-04 &  5.438931e-03\\\\\n",
       "\tgrad:d\\_comten\\_sq & -0.005072908 & -0.007797259 &  9.542546e-04 &  0.0009232463 &  2.587383e-04 & -6.664354e-05 &  0.003127186 & -9.971302e-05 & -4.345818e-04 & -8.693775e-05 &  3.390741e-05 &  0.004286872 & -4.394115e-04 & -3.214892e-05 & -1.400582e-04 &  5.739400e-05\\\\\n",
       "\tgrad:d\\_ceoten\\_sq &  0.005725806 &  0.003650154 & -5.708075e-04 & -0.0092120661 & -6.664354e-05 &  1.490626e-03 & -0.003818704 &  2.118337e-04 &  2.732399e-03 &  1.962541e-05 & -1.505858e-04 & -0.003419846 &  4.888636e-04 &  5.521673e-03 &  7.589322e-05 & -9.273405e-04\\\\\n",
       "\tlmktval:medium & -0.380202945 & -0.206307393 &  2.564707e-02 &  0.0824149098 &  3.127186e-03 & -3.818704e-03 &  0.621387356 & -9.227714e-02 & -1.662643e-01 & -4.034064e-03 &  8.447704e-03 &  0.151057984 & -1.411182e-02 & -3.924641e-02 & -1.279868e-03 &  2.070207e-03\\\\\n",
       "\tcomten:medium & -0.041110304 &  0.037317001 & -1.158903e-02 & -0.0009787850 & -9.971302e-05 &  2.118337e-04 & -0.092277143 &  3.325497e-02 &  2.665429e-03 & -6.762061e-04 & -6.839580e-04 & -0.018830208 &  7.658727e-03 & -5.641017e-04 & -1.656230e-05 & -1.240538e-04\\\\\n",
       "\tceoten:medium &  0.025024880 &  0.061191936 &  1.454230e-03 & -0.0697459320 & -4.345818e-04 &  2.732399e-03 & -0.166264335 &  2.665429e-03 &  1.675035e-01 &  1.065015e-03 & -6.915146e-03 & -0.031791359 & -1.843347e-03 &  4.088812e-02 & -2.571991e-05 & -1.512109e-03\\\\\n",
       "\td\\_comten\\_sq:medium &  0.001151399 &  0.001833650 &  8.891578e-05 & -0.0002186917 & -8.693775e-05 &  1.962541e-05 & -0.004034064 & -6.762061e-04 &  1.065015e-03 &  3.244752e-04 & -9.476224e-05 & -0.001018034 & -8.284892e-05 & -5.141330e-05 &  5.182002e-05 & -1.594038e-05\\\\\n",
       "\td\\_ceoten\\_sq:medium & -0.001249124 & -0.003116940 &  1.798088e-04 &  0.0028003583 &  3.390741e-05 & -1.505858e-04 &  0.008447704 & -6.839580e-04 & -6.915146e-03 & -9.476224e-05 &  4.080269e-04 &  0.001691304 & -7.322740e-05 & -1.607567e-03 & -9.339924e-06 &  8.835807e-05\\\\\n",
       "\tlmktval:large & -0.211252299 & -0.285885071 &  5.121579e-02 &  0.0494121005 &  4.286872e-03 & -3.419846e-03 &  0.151057984 & -1.883021e-02 & -3.179136e-02 & -1.018034e-03 &  1.691304e-03 &  0.514564088 & -9.727132e-02 & -7.328151e-02 & -6.397592e-03 &  5.893618e-03\\\\\n",
       "\tcomten:large & -0.061329613 &  0.060267877 & -2.059646e-02 &  0.0081006701 & -4.394115e-04 &  4.888636e-04 & -0.014111816 &  7.658727e-03 & -1.843347e-03 & -8.284892e-05 & -7.322740e-05 & -0.097271315 &  3.793683e-02 & -1.715514e-02 &  6.099753e-04 & -7.037140e-04\\\\\n",
       "\tceoten:large &  0.075582561 &  0.024319765 &  9.489883e-03 & -0.0897074304 & -3.214892e-05 &  5.521673e-03 & -0.039246407 & -5.641017e-04 &  4.088812e-02 & -5.141330e-05 & -1.607567e-03 & -0.073281512 & -1.715514e-02 &  1.999418e-01 &  3.092659e-04 & -1.222330e-02\\\\\n",
       "\td\\_comten\\_sq:large &  0.001801023 &  0.003600393 & -4.029479e-04 & -0.0002005113 & -1.400582e-04 &  7.589322e-05 & -0.001279868 & -1.656230e-05 & -2.571991e-05 &  5.182002e-05 & -9.339924e-06 & -0.006397592 &  6.099753e-04 &  3.092659e-04 &  2.791197e-04 & -1.395608e-04\\\\\n",
       "\td\\_ceoten\\_sq:large & -0.003271602 & -0.002204217 &  4.606319e-04 &  0.0054389309 &  5.739400e-05 & -9.273405e-04 &  0.002070207 & -1.240538e-04 & -1.512109e-03 & -1.594038e-05 &  8.835807e-05 &  0.005893618 & -7.037140e-04 & -1.222330e-02 & -1.395608e-04 &  1.806222e-03\\\\\n",
       "\\end{tabular}\n"
      ],
      "text/markdown": [
       "\n",
       "A matrix: 16 × 16 of type dbl\n",
       "\n",
       "| <!--/--> | (Intercept) | lmktval:grad | grad:comten | grad:ceoten | grad:d_comten_sq | grad:d_ceoten_sq | lmktval:medium | comten:medium | ceoten:medium | d_comten_sq:medium | d_ceoten_sq:medium | lmktval:large | comten:large | ceoten:large | d_comten_sq:large | d_ceoten_sq:large |\n",
       "|---|---|---|---|---|---|---|---|---|---|---|---|---|---|---|---|---|\n",
       "| (Intercept) |  4.094726398 | -0.223046910 |  5.073638e-02 | -0.1205747639 | -5.072908e-03 |  5.725806e-03 | -0.380202945 | -4.111030e-02 |  2.502488e-02 |  1.151399e-03 | -1.249124e-03 | -0.211252299 | -6.132961e-02 |  7.558256e-02 |  1.801023e-03 | -3.271602e-03 |\n",
       "| lmktval:grad | -0.223046910 |  0.541721149 | -9.500642e-02 | -0.0839916131 | -7.797259e-03 |  3.650154e-03 | -0.206307393 |  3.731700e-02 |  6.119194e-02 |  1.833650e-03 | -3.116940e-03 | -0.285885071 |  6.026788e-02 |  2.431977e-02 |  3.600393e-03 | -2.204217e-03 |\n",
       "| grad:comten |  0.050736377 | -0.095006424 |  3.249523e-02 | -0.0096440424 |  9.542546e-04 | -5.708075e-04 |  0.025647068 | -1.158903e-02 |  1.454230e-03 |  8.891578e-05 |  1.798088e-04 |  0.051215793 | -2.059646e-02 |  9.489883e-03 | -4.029479e-04 |  4.606319e-04 |\n",
       "| grad:ceoten | -0.120574764 | -0.083991613 | -9.644042e-03 |  0.1501049654 |  9.232463e-04 | -9.212066e-03 |  0.082414910 | -9.787850e-04 | -6.974593e-02 | -2.186917e-04 |  2.800358e-03 |  0.049412100 |  8.100670e-03 | -8.970743e-02 | -2.005113e-04 |  5.438931e-03 |\n",
       "| grad:d_comten_sq | -0.005072908 | -0.007797259 |  9.542546e-04 |  0.0009232463 |  2.587383e-04 | -6.664354e-05 |  0.003127186 | -9.971302e-05 | -4.345818e-04 | -8.693775e-05 |  3.390741e-05 |  0.004286872 | -4.394115e-04 | -3.214892e-05 | -1.400582e-04 |  5.739400e-05 |\n",
       "| grad:d_ceoten_sq |  0.005725806 |  0.003650154 | -5.708075e-04 | -0.0092120661 | -6.664354e-05 |  1.490626e-03 | -0.003818704 |  2.118337e-04 |  2.732399e-03 |  1.962541e-05 | -1.505858e-04 | -0.003419846 |  4.888636e-04 |  5.521673e-03 |  7.589322e-05 | -9.273405e-04 |\n",
       "| lmktval:medium | -0.380202945 | -0.206307393 |  2.564707e-02 |  0.0824149098 |  3.127186e-03 | -3.818704e-03 |  0.621387356 | -9.227714e-02 | -1.662643e-01 | -4.034064e-03 |  8.447704e-03 |  0.151057984 | -1.411182e-02 | -3.924641e-02 | -1.279868e-03 |  2.070207e-03 |\n",
       "| comten:medium | -0.041110304 |  0.037317001 | -1.158903e-02 | -0.0009787850 | -9.971302e-05 |  2.118337e-04 | -0.092277143 |  3.325497e-02 |  2.665429e-03 | -6.762061e-04 | -6.839580e-04 | -0.018830208 |  7.658727e-03 | -5.641017e-04 | -1.656230e-05 | -1.240538e-04 |\n",
       "| ceoten:medium |  0.025024880 |  0.061191936 |  1.454230e-03 | -0.0697459320 | -4.345818e-04 |  2.732399e-03 | -0.166264335 |  2.665429e-03 |  1.675035e-01 |  1.065015e-03 | -6.915146e-03 | -0.031791359 | -1.843347e-03 |  4.088812e-02 | -2.571991e-05 | -1.512109e-03 |\n",
       "| d_comten_sq:medium |  0.001151399 |  0.001833650 |  8.891578e-05 | -0.0002186917 | -8.693775e-05 |  1.962541e-05 | -0.004034064 | -6.762061e-04 |  1.065015e-03 |  3.244752e-04 | -9.476224e-05 | -0.001018034 | -8.284892e-05 | -5.141330e-05 |  5.182002e-05 | -1.594038e-05 |\n",
       "| d_ceoten_sq:medium | -0.001249124 | -0.003116940 |  1.798088e-04 |  0.0028003583 |  3.390741e-05 | -1.505858e-04 |  0.008447704 | -6.839580e-04 | -6.915146e-03 | -9.476224e-05 |  4.080269e-04 |  0.001691304 | -7.322740e-05 | -1.607567e-03 | -9.339924e-06 |  8.835807e-05 |\n",
       "| lmktval:large | -0.211252299 | -0.285885071 |  5.121579e-02 |  0.0494121005 |  4.286872e-03 | -3.419846e-03 |  0.151057984 | -1.883021e-02 | -3.179136e-02 | -1.018034e-03 |  1.691304e-03 |  0.514564088 | -9.727132e-02 | -7.328151e-02 | -6.397592e-03 |  5.893618e-03 |\n",
       "| comten:large | -0.061329613 |  0.060267877 | -2.059646e-02 |  0.0081006701 | -4.394115e-04 |  4.888636e-04 | -0.014111816 |  7.658727e-03 | -1.843347e-03 | -8.284892e-05 | -7.322740e-05 | -0.097271315 |  3.793683e-02 | -1.715514e-02 |  6.099753e-04 | -7.037140e-04 |\n",
       "| ceoten:large |  0.075582561 |  0.024319765 |  9.489883e-03 | -0.0897074304 | -3.214892e-05 |  5.521673e-03 | -0.039246407 | -5.641017e-04 |  4.088812e-02 | -5.141330e-05 | -1.607567e-03 | -0.073281512 | -1.715514e-02 |  1.999418e-01 |  3.092659e-04 | -1.222330e-02 |\n",
       "| d_comten_sq:large |  0.001801023 |  0.003600393 | -4.029479e-04 | -0.0002005113 | -1.400582e-04 |  7.589322e-05 | -0.001279868 | -1.656230e-05 | -2.571991e-05 |  5.182002e-05 | -9.339924e-06 | -0.006397592 |  6.099753e-04 |  3.092659e-04 |  2.791197e-04 | -1.395608e-04 |\n",
       "| d_ceoten_sq:large | -0.003271602 | -0.002204217 |  4.606319e-04 |  0.0054389309 |  5.739400e-05 | -9.273405e-04 |  0.002070207 | -1.240538e-04 | -1.512109e-03 | -1.594038e-05 |  8.835807e-05 |  0.005893618 | -7.037140e-04 | -1.222330e-02 | -1.395608e-04 |  1.806222e-03 |\n",
       "\n"
      ],
      "text/plain": [
       "                   (Intercept)  lmktval:grad grad:comten   grad:ceoten  \n",
       "(Intercept)         4.094726398 -0.223046910  5.073638e-02 -0.1205747639\n",
       "lmktval:grad       -0.223046910  0.541721149 -9.500642e-02 -0.0839916131\n",
       "grad:comten         0.050736377 -0.095006424  3.249523e-02 -0.0096440424\n",
       "grad:ceoten        -0.120574764 -0.083991613 -9.644042e-03  0.1501049654\n",
       "grad:d_comten_sq   -0.005072908 -0.007797259  9.542546e-04  0.0009232463\n",
       "grad:d_ceoten_sq    0.005725806  0.003650154 -5.708075e-04 -0.0092120661\n",
       "lmktval:medium     -0.380202945 -0.206307393  2.564707e-02  0.0824149098\n",
       "comten:medium      -0.041110304  0.037317001 -1.158903e-02 -0.0009787850\n",
       "ceoten:medium       0.025024880  0.061191936  1.454230e-03 -0.0697459320\n",
       "d_comten_sq:medium  0.001151399  0.001833650  8.891578e-05 -0.0002186917\n",
       "d_ceoten_sq:medium -0.001249124 -0.003116940  1.798088e-04  0.0028003583\n",
       "lmktval:large      -0.211252299 -0.285885071  5.121579e-02  0.0494121005\n",
       "comten:large       -0.061329613  0.060267877 -2.059646e-02  0.0081006701\n",
       "ceoten:large        0.075582561  0.024319765  9.489883e-03 -0.0897074304\n",
       "d_comten_sq:large   0.001801023  0.003600393 -4.029479e-04 -0.0002005113\n",
       "d_ceoten_sq:large  -0.003271602 -0.002204217  4.606319e-04  0.0054389309\n",
       "                   grad:d_comten_sq grad:d_ceoten_sq lmktval:medium\n",
       "(Intercept)        -5.072908e-03     5.725806e-03    -0.380202945  \n",
       "lmktval:grad       -7.797259e-03     3.650154e-03    -0.206307393  \n",
       "grad:comten         9.542546e-04    -5.708075e-04     0.025647068  \n",
       "grad:ceoten         9.232463e-04    -9.212066e-03     0.082414910  \n",
       "grad:d_comten_sq    2.587383e-04    -6.664354e-05     0.003127186  \n",
       "grad:d_ceoten_sq   -6.664354e-05     1.490626e-03    -0.003818704  \n",
       "lmktval:medium      3.127186e-03    -3.818704e-03     0.621387356  \n",
       "comten:medium      -9.971302e-05     2.118337e-04    -0.092277143  \n",
       "ceoten:medium      -4.345818e-04     2.732399e-03    -0.166264335  \n",
       "d_comten_sq:medium -8.693775e-05     1.962541e-05    -0.004034064  \n",
       "d_ceoten_sq:medium  3.390741e-05    -1.505858e-04     0.008447704  \n",
       "lmktval:large       4.286872e-03    -3.419846e-03     0.151057984  \n",
       "comten:large       -4.394115e-04     4.888636e-04    -0.014111816  \n",
       "ceoten:large       -3.214892e-05     5.521673e-03    -0.039246407  \n",
       "d_comten_sq:large  -1.400582e-04     7.589322e-05    -0.001279868  \n",
       "d_ceoten_sq:large   5.739400e-05    -9.273405e-04     0.002070207  \n",
       "                   comten:medium ceoten:medium d_comten_sq:medium\n",
       "(Intercept)        -4.111030e-02  2.502488e-02  1.151399e-03     \n",
       "lmktval:grad        3.731700e-02  6.119194e-02  1.833650e-03     \n",
       "grad:comten        -1.158903e-02  1.454230e-03  8.891578e-05     \n",
       "grad:ceoten        -9.787850e-04 -6.974593e-02 -2.186917e-04     \n",
       "grad:d_comten_sq   -9.971302e-05 -4.345818e-04 -8.693775e-05     \n",
       "grad:d_ceoten_sq    2.118337e-04  2.732399e-03  1.962541e-05     \n",
       "lmktval:medium     -9.227714e-02 -1.662643e-01 -4.034064e-03     \n",
       "comten:medium       3.325497e-02  2.665429e-03 -6.762061e-04     \n",
       "ceoten:medium       2.665429e-03  1.675035e-01  1.065015e-03     \n",
       "d_comten_sq:medium -6.762061e-04  1.065015e-03  3.244752e-04     \n",
       "d_ceoten_sq:medium -6.839580e-04 -6.915146e-03 -9.476224e-05     \n",
       "lmktval:large      -1.883021e-02 -3.179136e-02 -1.018034e-03     \n",
       "comten:large        7.658727e-03 -1.843347e-03 -8.284892e-05     \n",
       "ceoten:large       -5.641017e-04  4.088812e-02 -5.141330e-05     \n",
       "d_comten_sq:large  -1.656230e-05 -2.571991e-05  5.182002e-05     \n",
       "d_ceoten_sq:large  -1.240538e-04 -1.512109e-03 -1.594038e-05     \n",
       "                   d_ceoten_sq:medium lmktval:large comten:large  ceoten:large \n",
       "(Intercept)        -1.249124e-03      -0.211252299  -6.132961e-02  7.558256e-02\n",
       "lmktval:grad       -3.116940e-03      -0.285885071   6.026788e-02  2.431977e-02\n",
       "grad:comten         1.798088e-04       0.051215793  -2.059646e-02  9.489883e-03\n",
       "grad:ceoten         2.800358e-03       0.049412100   8.100670e-03 -8.970743e-02\n",
       "grad:d_comten_sq    3.390741e-05       0.004286872  -4.394115e-04 -3.214892e-05\n",
       "grad:d_ceoten_sq   -1.505858e-04      -0.003419846   4.888636e-04  5.521673e-03\n",
       "lmktval:medium      8.447704e-03       0.151057984  -1.411182e-02 -3.924641e-02\n",
       "comten:medium      -6.839580e-04      -0.018830208   7.658727e-03 -5.641017e-04\n",
       "ceoten:medium      -6.915146e-03      -0.031791359  -1.843347e-03  4.088812e-02\n",
       "d_comten_sq:medium -9.476224e-05      -0.001018034  -8.284892e-05 -5.141330e-05\n",
       "d_ceoten_sq:medium  4.080269e-04       0.001691304  -7.322740e-05 -1.607567e-03\n",
       "lmktval:large       1.691304e-03       0.514564088  -9.727132e-02 -7.328151e-02\n",
       "comten:large       -7.322740e-05      -0.097271315   3.793683e-02 -1.715514e-02\n",
       "ceoten:large       -1.607567e-03      -0.073281512  -1.715514e-02  1.999418e-01\n",
       "d_comten_sq:large  -9.339924e-06      -0.006397592   6.099753e-04  3.092659e-04\n",
       "d_ceoten_sq:large   8.835807e-05       0.005893618  -7.037140e-04 -1.222330e-02\n",
       "                   d_comten_sq:large d_ceoten_sq:large\n",
       "(Intercept)         1.801023e-03     -3.271602e-03    \n",
       "lmktval:grad        3.600393e-03     -2.204217e-03    \n",
       "grad:comten        -4.029479e-04      4.606319e-04    \n",
       "grad:ceoten        -2.005113e-04      5.438931e-03    \n",
       "grad:d_comten_sq   -1.400582e-04      5.739400e-05    \n",
       "grad:d_ceoten_sq    7.589322e-05     -9.273405e-04    \n",
       "lmktval:medium     -1.279868e-03      2.070207e-03    \n",
       "comten:medium      -1.656230e-05     -1.240538e-04    \n",
       "ceoten:medium      -2.571991e-05     -1.512109e-03    \n",
       "d_comten_sq:medium  5.182002e-05     -1.594038e-05    \n",
       "d_ceoten_sq:medium -9.339924e-06      8.835807e-05    \n",
       "lmktval:large      -6.397592e-03      5.893618e-03    \n",
       "comten:large        6.099753e-04     -7.037140e-04    \n",
       "ceoten:large        3.092659e-04     -1.222330e-02    \n",
       "d_comten_sq:large   2.791197e-04     -1.395608e-04    \n",
       "d_ceoten_sq:large  -1.395608e-04      1.806222e-03    "
      ]
     },
     "metadata": {},
     "output_type": "display_data"
    }
   ],
   "source": [
    "#Create non-dummy and dummy variable vectors\n",
    "predictors <- c(\"lmktval\",\"comten\",\"ceoten\",\"d_comten_sq\",\"d_ceoten_sq\")\n",
    "dummyvars <- c(\"grad\",\"medium\",\"large\")\n",
    "#Create new function using interacted variables\n",
    "f.1 <- as.formula(\n",
    "                  paste(outcome, \n",
    "                        paste(outer(predictors, dummyvars, FUN = paste, sep = \":\"), collapse = \" + \"), \n",
    "                        sep = \" ~ \"))\n",
    "#Create design matrix based on linear model\n",
    "X.1 <- model.matrix(f.1,data=df_sized)\n",
    "dim(X.1)\n",
    "#Create sample counterpart of E[xx'] and invert\n",
    "X.X.n.1 <- t(X.1)%*%X.1/nrow(X.1)\n",
    "solve(X.X.n.1)"
   ]
  },
  {
   "cell_type": "markdown",
   "metadata": {},
   "source": [
    "10. Estimate the model in (9) above by OLS and report standard errors that are robust to the presence of heteroskedasticity of unknown form."
   ]
  },
  {
   "cell_type": "code",
   "execution_count": 14,
   "metadata": {},
   "outputs": [
    {
     "name": "stderr",
     "output_type": "stream",
     "text": [
      "Loading required package: new_pckgs\n",
      "\n",
      "Installing packages into 'C:/Users/foobe/Documents/R/win-library/3.6'\n",
      "(as 'lib' is unspecified)\n",
      "\n"
     ]
    },
    {
     "data": {
      "text/plain": [
       "\n",
       "t test of coefficients:\n",
       "\n",
       "                      Estimate  Std. Error t value  Pr(>|t|)    \n",
       "(Intercept)         6.24702388  0.08677123 71.9942 < 2.2e-16 ***\n",
       "lmktval:grad        0.01363828  0.02532142  0.5386 0.5909023    \n",
       "grad:comten        -0.00467991  0.00634516 -0.7376 0.4618579    \n",
       "grad:ceoten        -0.00596466  0.01456428 -0.4095 0.6826877    \n",
       "grad:d_comten_sq   -0.00049539  0.00067688 -0.7319 0.4653154    \n",
       "grad:d_ceoten_sq    0.00128305  0.00141677  0.9056 0.3664933    \n",
       "lmktval:medium      0.02914677  0.04020843  0.7249 0.4695704    \n",
       "comten:medium      -0.00673110  0.00691805 -0.9730 0.3320247    \n",
       "ceoten:medium       0.03913598  0.01868635  2.0944 0.0377939 *  \n",
       "d_comten_sq:medium  0.00064290  0.00098613  0.6519 0.5153713    \n",
       "d_ceoten_sq:medium -0.00132468  0.00100788 -1.3143 0.1906093    \n",
       "lmktval:large       0.09239400  0.02427246  3.8065 0.0001999 ***\n",
       "comten:large       -0.00634864  0.00689198 -0.9212 0.3583438    \n",
       "ceoten:large        0.03488877  0.01522135  2.2921 0.0231954 *  \n",
       "d_comten_sq:large   0.00070330  0.00070410  0.9989 0.3193607    \n",
       "d_ceoten_sq:large  -0.00629710  0.00174211 -3.6146 0.0004018 ***\n",
       "---\n",
       "Signif. codes:  0 '***' 0.001 '**' 0.01 '*' 0.05 '.' 0.1 ' ' 1\n"
      ]
     },
     "metadata": {},
     "output_type": "display_data"
    }
   ],
   "source": [
    "#Saving formula from pt.9 to ols object\n",
    "ols <- lm(f.1, data = df_sized)\n",
    "\n",
    "## installing the 'lmtest' and 'sandwich' packages if not previously installed\n",
    "new_pckgs <- c('lmtest','sandwich')\n",
    "if (!require(new_pckgs)) install.packages(new_pckgs)\n",
    "\n",
    "## loading the packages\n",
    "library(lmtest)\n",
    "library(sandwich)\n",
    "\n",
    "## OLS: calculating standard t-statistics for 'significance'\n",
    "coeftest(ols, vcov = vcovHC, type = \"HC1\")"
   ]
  }
 ],
 "metadata": {
  "kernelspec": {
   "display_name": "R",
   "language": "R",
   "name": "ir"
  },
  "language_info": {
   "codemirror_mode": "r",
   "file_extension": ".r",
   "mimetype": "text/x-r-source",
   "name": "R",
   "pygments_lexer": "r",
   "version": "3.6.1"
  }
 },
 "nbformat": 4,
 "nbformat_minor": 2
}
