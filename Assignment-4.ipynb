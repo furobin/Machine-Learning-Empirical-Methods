{
 "cells": [
  {
   "cell_type": "markdown",
   "metadata": {},
   "source": [
    "<center><h1> Empirical Assignment 4</h1></center>\n",
    "\n",
    "**Author(s):**\n",
    "1. Robin Fu (robin.fu@emory.edu)\n",
    "\n",
    "**Objectives**: This <ins>assignment</ins> aims at\n",
    " 1. Learning how to adapt other people's code to one needs;\n",
    " 2. Use *GitHub* to retrieve and submit computer code.\n",
    "\n",
    "**Instructions**:\n",
    " 1. Please write down your Python code and <ins>execute</ins> it in the cell below each question.\n",
    " \n",
    " **Data Source**: [Introductory Econometrics: A Modern Approach](https://cran.r-project.org/web/packages/wooldridge/index.html) by Jeffrey Wooldridge\n",
    "\n",
    "**Data Description**: ```http://fmwww.bc.edu/ec-p/data/wooldridge/hprice1.dta```\n",
    "\n",
    "```\n",
    "Contains data from hprice1.dta\n",
    "  obs:            88                          \n",
    " vars:            10                          17 Mar 2002 12:21\n",
    " size:         3,168 (99.5% of memory free)\n",
    "-------------------------------------------------------------------------------\n",
    "              storage  display     value\n",
    "variable name   type   format      label      variable label\n",
    "-------------------------------------------------------------------------------\n",
    "price           float  %9.0g                  house price, $1000s\n",
    "assess          float  %9.0g                  assessed value, $1000s\n",
    "bdrms           byte   %9.0g                  number of bdrms\n",
    "lotsize         float  %9.0g                  size of lot in square feet\n",
    "sqrft           int    %9.0g                  size of house in square feet\n",
    "colonial        byte   %9.0g                  =1 if home is colonial style\n",
    "lprice          float  %9.0g                  log(price)\n",
    "lassess         float  %9.0g                  log(assess\n",
    "llotsize        float  %9.0g                  log(lotsize)\n",
    "lsqrft          float  %9.0g                  log(sqrft)\n",
    "-------------------------------------------------------------------------------\n",
    "Sorted by:  \n",
    " ```\n",
    " \n",
    " **Background**: Consider the general model\n",
    " \n",
    " $$\n",
    "\\begin{aligned}\n",
    "\\texttt{lprice} &= \\beta_{0} + \\beta_{1}\\texttt{llotsize} +  \\beta_{2}\\texttt{lsqrft} +\\beta_{3}\\texttt{colonial}+\\beta_{4}\\texttt{bdrms}\\\\\n",
    "&+ \\beta_{5}\\texttt{colonial}\\times\\texttt{llotsize}+ \\beta_{6}\\texttt{colonial}\\times\\texttt{lsqrft}++ \\beta_{7}\\texttt{colonial}\\times\\texttt{bdrms}+ e.\n",
    "\\end{aligned}\n",
    "$$\n",
    "\n",
    "You now know that a relatively unknown _alternative_ measure of fit, $\\widetilde{R}^2$, is defined as\n",
    "\n",
    "$$\n",
    "\\widetilde{R}^{2}=1-\\frac{\\sum_{i=1}^{n} \\widetilde{e}_{i}^{2}}{\\sum_{i=1}^{n}\\left(y_{i}-\\bar{y}\\right)^{2}},\n",
    "$$\n",
    "\n",
    "where $\\{\\widetilde{e}_i;i=1,\\dots,n\\}$ are the _prediction errors_ previously discussed in class, and $\\{y_i;i=1,\\dots,n\\}$ represents the elements $\\{\\texttt{lprice} _i;i=1,\\dots,n\\}$ in the ```hprice1``` data set. Recall that $\\widetilde{R}^2$ estimates the percentage of the forecast variance which is explained by the regression forecast. You think this is a better measure of _fitness_ than the $RSS$ or the classical $R^2$.\n",
    " \n",
    "<center><h2> Questions</h2></center>"
   ]
  },
  {
   "cell_type": "markdown",
   "metadata": {},
   "source": [
    "1. [15 points] Proceed to modify the previously defined ```processSubset``` Python function so it returns this new quantity $\\widetilde{R}^2$ instead of the $RSS$ (called ```ssr``` by the ```statsmodels``` library)."
   ]
  },
  {
   "cell_type": "code",
   "execution_count": 1,
   "metadata": {},
   "outputs": [
    {
     "data": {
      "text/plain": [
       "{'model': <statsmodels.regression.linear_model.RegressionResultsWrapper at 0x13f7dc90f08>,\n",
       " 'R2': 0.45284725267900017}"
      ]
     },
     "execution_count": 1,
     "metadata": {},
     "output_type": "execute_result"
    }
   ],
   "source": [
    "#Import all needed packages\n",
    "import pandas as pd\n",
    "import numpy as np\n",
    "import statsmodels.api as sm\n",
    "import sklearn.model_selection as skms\n",
    "import matplotlib.pyplot as plt\n",
    "import itertools\n",
    "import patsy\n",
    "\n",
    "hprice1 = pd.read_stata('http://fmwww.bc.edu/ec-p/data/wooldridge/hprice1.dta')\n",
    "hprice1['collotsz'] = hprice1.colonial * hprice1.llotsize\n",
    "hprice1['collsqrt'] = hprice1.colonial * hprice1.lsqrft\n",
    "hprice1['colbdrms'] = hprice1.colonial * hprice1.bdrms\n",
    "f = 'lprice ~ llotsize + lsqrft + colonial + bdrms + collotsz + collsqrt + colbdrms'\n",
    "y1, X1 = patsy.dmatrices(f, data = hprice1, return_type = 'dataframe')\n",
    "y = y1.sub(y1.mean())\n",
    "X = X1.sub(X1.mean()).drop('Intercept',axis=1)\n",
    "\n",
    "def processSubset(feature_set):\n",
    "    # Fit model on feature_set and calculate RSS\n",
    "    model = sm.OLS(y,sm.add_constant(X[list(feature_set)])) #including intercept in model; same model selected if w/o intercept\n",
    "    regr = model.fit() #fits the model, creates fitted OLS object\n",
    "    e_tilde = regr.resid/(1- regr.get_influence().hat_matrix_diag)\n",
    "    R2_tilde = 1 - (sum(e_tilde**2)/regr.centered_tss)#gets residual sum squared\n",
    "    return {\"model\":regr, \"R2\":R2_tilde}\n",
    "\n",
    "processSubset(X)"
   ]
  },
  {
   "cell_type": "markdown",
   "metadata": {},
   "source": [
    "2. [35 points] Using the entire set of 88 observations proceed to find out all the best 7 specifications using the **Best Subset Selection** algorithm discussed in class that utilizes the proposed $\\widetilde{R}^2$ measure of fit instead. *Note*: All these 7 specifications must contain an intercept per our discussion in class."
   ]
  },
  {
   "cell_type": "code",
   "execution_count": 2,
   "metadata": {},
   "outputs": [
    {
     "name": "stdout",
     "output_type": "stream",
     "text": [
      "Processed 7 models on 1 predictors\n",
      "Processed 21 models on 2 predictors\n",
      "Processed 35 models on 3 predictors\n",
      "Processed 35 models on 4 predictors\n",
      "Processed 21 models on 5 predictors\n",
      "Processed 7 models on 6 predictors\n",
      "Processed 1 models on 7 predictors\n"
     ]
    },
    {
     "data": {
      "text/html": [
       "<div>\n",
       "<style scoped>\n",
       "    .dataframe tbody tr th:only-of-type {\n",
       "        vertical-align: middle;\n",
       "    }\n",
       "\n",
       "    .dataframe tbody tr th {\n",
       "        vertical-align: top;\n",
       "    }\n",
       "\n",
       "    .dataframe thead th {\n",
       "        text-align: right;\n",
       "    }\n",
       "</style>\n",
       "<table border=\"1\" class=\"dataframe\">\n",
       "  <thead>\n",
       "    <tr style=\"text-align: right;\">\n",
       "      <th></th>\n",
       "      <th>R2</th>\n",
       "      <th>model</th>\n",
       "    </tr>\n",
       "  </thead>\n",
       "  <tbody>\n",
       "    <tr>\n",
       "      <th>1</th>\n",
       "      <td>0.527653</td>\n",
       "      <td>&lt;statsmodels.regression.linear_model.Regressio...</td>\n",
       "    </tr>\n",
       "    <tr>\n",
       "      <th>2</th>\n",
       "      <td>0.604636</td>\n",
       "      <td>&lt;statsmodels.regression.linear_model.Regressio...</td>\n",
       "    </tr>\n",
       "    <tr>\n",
       "      <th>3</th>\n",
       "      <td>0.604009</td>\n",
       "      <td>&lt;statsmodels.regression.linear_model.Regressio...</td>\n",
       "    </tr>\n",
       "    <tr>\n",
       "      <th>4</th>\n",
       "      <td>0.597532</td>\n",
       "      <td>&lt;statsmodels.regression.linear_model.Regressio...</td>\n",
       "    </tr>\n",
       "    <tr>\n",
       "      <th>5</th>\n",
       "      <td>0.579477</td>\n",
       "      <td>&lt;statsmodels.regression.linear_model.Regressio...</td>\n",
       "    </tr>\n",
       "    <tr>\n",
       "      <th>6</th>\n",
       "      <td>0.552883</td>\n",
       "      <td>&lt;statsmodels.regression.linear_model.Regressio...</td>\n",
       "    </tr>\n",
       "    <tr>\n",
       "      <th>7</th>\n",
       "      <td>0.452847</td>\n",
       "      <td>&lt;statsmodels.regression.linear_model.Regressio...</td>\n",
       "    </tr>\n",
       "  </tbody>\n",
       "</table>\n",
       "</div>"
      ],
      "text/plain": [
       "         R2                                              model\n",
       "1  0.527653  <statsmodels.regression.linear_model.Regressio...\n",
       "2  0.604636  <statsmodels.regression.linear_model.Regressio...\n",
       "3  0.604009  <statsmodels.regression.linear_model.Regressio...\n",
       "4  0.597532  <statsmodels.regression.linear_model.Regressio...\n",
       "5  0.579477  <statsmodels.regression.linear_model.Regressio...\n",
       "6  0.552883  <statsmodels.regression.linear_model.Regressio...\n",
       "7  0.452847  <statsmodels.regression.linear_model.Regressio..."
      ]
     },
     "execution_count": 2,
     "metadata": {},
     "output_type": "execute_result"
    }
   ],
   "source": [
    "def getBest(p):\n",
    "    \n",
    "    results = []\n",
    "    \n",
    "    for combo in itertools.combinations(X.columns, p): #gets all combinations of X.columns w/p spots\n",
    "        results.append(processSubset(combo))\n",
    "    \n",
    "    models = pd.DataFrame(results)\n",
    "    \n",
    "    # Choose the model with the highest R2\n",
    "    best_model = models.loc[models['R2'].argmax()]\n",
    "    \n",
    "    print(\"Processed\", models.shape[0], \"models on\", p, \"predictors\")\n",
    "    \n",
    "    # Return the best model, along with some other useful information about the model\n",
    "    return best_model\n",
    "\n",
    "models_best = pd.DataFrame(columns=[\"R2\", \"model\"])\n",
    "\n",
    "for i in range(1,8):\n",
    "    models_best.loc[i] = getBest(i)\n",
    "    \n",
    "models_best"
   ]
  },
  {
   "cell_type": "markdown",
   "metadata": {},
   "source": [
    "3. [50 points] For each of the best 7 specifications you found to maximize the forecast variance that is explained by the regression forecast in the previous question, proceed to calculate the cross-validated errors in a $10$-fold (using a seed equal to $42$). For example, let's assume that the best model that includes just one regressor using the entire sample of 88 observations and the $\\widetilde{R}^2$ is the model that regresses ```lprice``` on ```colonial```. Using the partition of the first fold, proceed to use the 90% of the observations to fit this model and then predict the ```lprice``` in the remaining 10% in this fold, and modified *again* your ```processSubset``` function to return the RSS, see, e.g., the Python code in the lecture notes. Save this value and then do the same for the next fold, save this value, and continue doing it till you have 10 RSS values corresponding to the $10$-fold. Average these 10 values and save it. Then do the same with the best model you found that contains 2 regressors, then the best that contains 3 regressors, and so on till you do the same for the complete model with 7 features. Plot these average values and proceed to report the model with the *smallest* cross-validated error. Then fit (```.summary()```) this *best* model using the entire sample."
   ]
  },
  {
   "cell_type": "code",
   "execution_count": 3,
   "metadata": {},
   "outputs": [
    {
     "name": "stdout",
     "output_type": "stream",
     "text": [
      "                            OLS Regression Results                            \n",
      "==============================================================================\n",
      "Dep. Variable:                 lprice   R-squared:                       0.651\n",
      "Model:                            OLS   Adj. R-squared:                  0.639\n",
      "Method:                 Least Squares   F-statistic:                     52.32\n",
      "Date:                Fri, 06 Mar 2020   Prob (F-statistic):           3.59e-19\n",
      "Time:                        22:45:12   Log-Likelihood:                 26.912\n",
      "No. Observations:                  88   AIC:                            -45.82\n",
      "Df Residuals:                      84   BIC:                            -35.91\n",
      "Df Model:                           3                                         \n",
      "Covariance Type:            nonrobust                                         \n",
      "==============================================================================\n",
      "                 coef    std err          t      P>|t|      [0.025      0.975]\n",
      "------------------------------------------------------------------------------\n",
      "const         -1.4215      0.602     -2.360      0.021      -2.619      -0.224\n",
      "llotsize       0.1663      0.038      4.396      0.000       0.091       0.242\n",
      "lsqrft         0.7287      0.081      8.956      0.000       0.567       0.891\n",
      "colbdrms       0.0212      0.011      1.969      0.052      -0.000       0.043\n",
      "==============================================================================\n",
      "Omnibus:                       14.054   Durbin-Watson:                   2.064\n",
      "Prob(Omnibus):                  0.001   Jarque-Bera (JB):               53.903\n",
      "Skew:                           0.032   Prob(JB):                     1.97e-12\n",
      "Kurtosis:                       6.834   Cond. No.                         375.\n",
      "==============================================================================\n",
      "\n",
      "Warnings:\n",
      "[1] Standard Errors assume that the covariance matrix of the errors is correctly specified.\n"
     ]
    },
    {
     "data": {
      "image/png": "[encoded data removed]",
      "text/plain": [
       "<Figure size 432x288 with 1 Axes>"
      ]
     },
     "metadata": {
      "needs_background": "light"
     },
     "output_type": "display_data"
    }
   ],
   "source": [
    "k = 10\n",
    "cv_errors = pd.DataFrame(columns=range(1,k+1), index=range(1,8))\n",
    "KF = skms.KFold(n_splits = k, shuffle = True, random_state = 42)\n",
    "\n",
    "#Takes a model and fits specific train and test sets\n",
    "def processFolds(feature_set, X_train, y_train, X_test, y_test):\n",
    "    model = sm.OLS(y_train,X_train[list(feature_set)]) \n",
    "    regr = model.fit() \n",
    "    RSS = ((regr.predict(X_test[list(feature_set)]) - y_test.iloc[:,0])**2).sum()\n",
    "    return RSS\n",
    "\n",
    "#Takes a model and runs each k-fold using processFolds function\n",
    "def iterFolds(fitted_model):\n",
    "    results = []\n",
    "    for train, test in KF.split(range(int(fitted_model.nobs))):\n",
    "        results.append(processFolds(fitted_model.model.exog_names[1:], \n",
    "                                    X.iloc[train], y.iloc[train],\n",
    "                                    X.iloc[test], y.iloc[test]))\n",
    "    return results\n",
    "\n",
    "#Add results to cv errors for each model in models_best\n",
    "for i in range(1,len(models_best)+1):\n",
    "    fitted_model = models_best.loc[i,'model']\n",
    "    cv_errors.loc[i] = iterFolds(fitted_model)\n",
    "\n",
    "cv_mean = cv_errors.apply(np.mean, axis=1)\n",
    "\n",
    "plt.plot(cv_mean)\n",
    "plt.xlabel('# Predictors')\n",
    "plt.ylabel('CV Error')\n",
    "plt.plot(cv_mean.argmin()+1, cv_mean.min(), \"or\")\n",
    "\n",
    "print(sm.OLS(y1,sm.add_constant(X1[models_best.loc[3,'model'].model.exog_names[1:]])).fit().summary())"
   ]
  }
 ],
 "metadata": {
  "kernelspec": {
   "display_name": "Python 3",
   "language": "python",
   "name": "python3"
  },
  "language_info": {
   "codemirror_mode": {
    "name": "ipython",
    "version": 3
   },
   "file_extension": ".py",
   "mimetype": "text/x-python",
   "name": "python",
   "nbconvert_exporter": "python",
   "pygments_lexer": "ipython3",
   "version": "3.7.6"
  }
 },
 "nbformat": 4,
 "nbformat_minor": 2
}
