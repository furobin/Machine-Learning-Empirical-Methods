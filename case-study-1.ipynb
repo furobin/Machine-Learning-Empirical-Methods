{
 "cells": [
  {
   "cell_type": "markdown",
   "metadata": {},
   "source": [
    "<center><h1> Case Study 1</h1></center>\n",
    "<center><h3> Week 1 (out of 5)</h3></center>\n",
    "\n",
    "**Author(s):**\n",
    "1. Robin Fu (robin.fu@emory.edu)\n",
    " \n",
    "**Data Source**: W.C. Hunter and M.B. Walker (1996), [“*The Cultural Affinity Hypothesis and Mortgage Lending Decisions*,”](https://link.springer.com/article/10.1007/BF00174551) Journal of Real Estate Finance and Economics 13, 57-70.\n",
    " \n",
    "**Book**: [Introductory Econometrics: A Modern Approach](https://economics.ut.ac.ir/documents/3030266/14100645/Jeffrey_M._Wooldridge_Introductory_Econometrics_A_Modern_Approach__2012.pdf) by Jeffrey Wooldridge\n",
    "\n",
    "**Data Description**: ```http://fmwww.bc.edu/ec-p/data/wooldridge/loanapp.dta```\n",
    "\n",
    "```\n",
    "  Obs:  1989\n",
    "\n",
    "  1. occ                       occupancy0hb\n",
    "  2. loanamt                   loan amt in thousands\n",
    "  3. action                    type of action taken\n",
    "  4. msa                       msa number of property\n",
    "  5. suffolk                   =1 if property in Suffolk County\n",
    "  6. race                      race of applicant\n",
    "  7. gender                    gender of applicant\n",
    "  8. appinc                    applicant income, $1000s\n",
    "  9. typur                     type of purchaser of loan\n",
    " 10. unit                      number of units in property\n",
    " 11. married                   =1 if applicant married\n",
    " 12. dep                       number of dependents\n",
    " 13. emp                       years employed in line of work\n",
    " 14. yjob                      years at this job\n",
    " 15. self                      self-employment dummy\n",
    " 16. atotinc                   total monthly income\n",
    " 17. cototinc                  coapp total monthly income\n",
    " 18. hexp                      propose housing expense\n",
    " 19. price                     purchase price\n",
    " 20. other                     other financing, $1000s\n",
    " 21. liq                       liquid assets\n",
    " 22. rep                       no. of credit reports\n",
    " 23. gdlin                     credit history meets guidelines\n",
    " 24. lines                     no. of credit lines on reports\n",
    " 25. mortg                     credit history on mortgage paym\n",
    " 26. cons                      credit history on consumer stuf\n",
    " 27. pubrec                    =1 if filed bankruptcy\n",
    " 28. hrat                      housing exp, % total inccome\n",
    " 29. obrat                     other oblgs,  % total income\n",
    " 30. fixadj                    fixed or adjustable rate?\n",
    " 31. term                      term of loan in months\n",
    " 32. apr                       appraised value\n",
    " 33. prop                      type of property\n",
    " 34. inss                      PMI sought\n",
    " 35. inson                     PMI approved\n",
    " 36. gift                      gift as down payment\n",
    " 37. cosign                    is there a cosigner\n",
    " 38. unver                     unverifiable info\n",
    " 39. review                    number of times reviewed\n",
    " 40. netw                      net worth\n",
    " 41. unem                      unemployment rate by industry\n",
    " 42. min30                     =1 if minority pop. > 30%\n",
    " 43. bd                        =1 if boarded-up val > MSA med\n",
    " 44. mi                        =1 if tract inc > MSA median\n",
    " 45. old                       =1 if applic age > MSA median\n",
    " 46. vr                        =1 if tract vac rte > MSA med\n",
    " 47. sch                       =1 if > 12 years schooling\n",
    " 48. black                     =1 if applicant black\n",
    " 49. hispan                    =1 if applicant Hispanic\n",
    " 50. male                      =1 if applicant male\n",
    " 51. reject                    =1 if action == 3\n",
    " 52. approve                   =1 if action == 1 or 2\n",
    " 53. mortno                    no mortgage history\n",
    " 54. mortperf                  no late mort. payments\n",
    " 55. mortlat1                  one or two late payments\n",
    " 56. mortlat2                  > 2 late payments\n",
    " 57. chist                     =0 if accnts deliq. >= 60 days\n",
    " 58. multi                     =1 if two or more units\n",
    " 59. loanprc                   amt/price\n",
    " 60. thick                     =1 if rep > 2\n",
    " 61. white                     =1 if applicant white\n",
    " 62. obwhte                    obrat*awhite\n",
    " ```"
   ]
  },
  {
   "cell_type": "markdown",
   "metadata": {},
   "source": [
    "Original Research Variables to Include:\n",
    "1. approve (=1 if action ==1 or 2)\n",
    "2. hrat\n",
    "3. obrat\n",
    "4. mhist (=1 if 2 or tewer mortgage payments recorded as late, 0 otherwise); mortlat2 = 0 when mhist = 1\n",
    "5. pubrec (public records history, 1 if public record cefault, 0 otherwise)\n",
    "6. self (1 if self-employed, 0 otherwise)\n",
    "7. chist (1 if no history of delinquent credits, 0 otherwise)\n",
    "8. unem (estimate of probability of unemployment by industry), time \n",
    "9. multi (dummy)\n",
    "10. cosign (dummy)\n",
    "11. married (dummy)\n",
    "12. loanprc \n",
    "13. dep (factor)\n",
    "14. sch (dummy)\n",
    "15. thick (dummy)\n",
    "16. white (=1 if white, 0 otherwise)\n",
    "17. gender (=1 if male, 0 otherwise)\n",
    "18. vr (=1 if tract vacancy < MSA, 0 otherwise)\n",
    "19. school * white\n",
    "20. school * gender\n",
    "21. School * thick\n",
    "22. school * vr\n",
    "23. chist * white\n",
    "24. chist * gender\n",
    "25. chist * thick\n",
    "26. chist * vr\n",
    "27. obwhte\n",
    "28. race (note: race = 5 is white, race = 4 is hispan, race = 3 is black), included per assignment "
   ]
  },
  {
   "cell_type": "markdown",
   "metadata": {},
   "source": [
    "In your new job as a data analyst, you have been given this data set and asked to _build_ a machine (in this case a **linear probability model**) to aid your client to automatize their loan approval decisions. Using your knowledge of the Ridge, Lasso, and Elastic Net estimators find an economic sound model with the smallest *mean squared errors* when 20% of the observations in this data set are kept to validate the proposed model using a seed equal to 42."
   ]
  },
  {
   "cell_type": "markdown",
   "metadata": {},
   "source": [
    "<h4>Things to consider:</h4>\n",
    "\n",
    "    1. Read the original paper to understand how the variables were constructed and the feature in their model.\n",
    "    2. Read section 7.4 titled \"Interactions Involving Dummy Variables\" in 'Introductory Econometrics: A Modern Approach' by Jeffrey Wooldridge.\n",
    "    3. Read section 7.5 titled \"A Binary Dependent Variable: The Linear Probability Model\" in 'Introductory Econometrics: A Modern Approach' by Jeffrey Wooldridge.\n",
    "    4. You should try standardizing as well as normalizing your chosen features when trying different estimators.\n",
    "    5. Always estimate an intercept.\n",
    "    6. Your answers should include the final chosen specification and the reported mean squared error of your validation data set."
   ]
  },
  {
   "cell_type": "markdown",
   "metadata": {},
   "source": [
    "# Data Preprocessing"
   ]
  },
  {
   "cell_type": "code",
   "execution_count": 1,
   "metadata": {
    "scrolled": true
   },
   "outputs": [
    {
     "name": "stdout",
     "output_type": "stream",
     "text": [
      "['approve', 'hrat', 'obrat', 'mortlat2', 'pubrec', 'self', 'chist', 'unem', 'multi', 'cosign', 'married', 'loanprc', 'dep', 'sch', 'thick', 'vr', 'obwhte', 'schwh', 'schma', 'schth', 'schvr', 'chiwh', 'chima', 'chith', 'chivr', 'black_female', 'black_male', 'hispan_female', 'hispan_male', 'white_female', 'hrat_dmean', 'obrat_dmean', 'mortlat2_dmean', 'pubrec_dmean', 'self_dmean', 'chist_dmean', 'unem_dmean', 'multi_dmean', 'cosign_dmean', 'married_dmean', 'loanprc_dmean', 'dep_dmean', 'sch_dmean', 'thick_dmean', 'vr_dmean', 'obwhte_dmean', 'schwh_dmean', 'schma_dmean', 'schth_dmean', 'schvr_dmean', 'chiwh_dmean', 'chima_dmean', 'chith_dmean', 'chivr_dmean', 'black_female_dmean', 'black_male_dmean', 'hispan_female_dmean', 'hispan_male_dmean', 'white_female_dmean']\n"
     ]
    }
   ],
   "source": [
    "import pandas as pd\n",
    "import numpy as np\n",
    "import patsy\n",
    "from sklearn.metrics import mean_squared_error\n",
    "\n",
    "#Loading data and creating variables in original study and race\n",
    "initial = pd.read_stata('http://fmwww.bc.edu/ec-p/data/wooldridge/loanapp.dta')\n",
    "df =  initial.loc[:,['approve','hrat','obrat','mortlat2','pubrec','self','chist',\n",
    "      'unem','multi','cosign','married','loanprc','dep','sch','thick','white','male','vr','obwhte','race']]\n",
    "\n",
    "temp = ['white','male','thick','vr']\n",
    "new = []\n",
    "for elem1 in ['sch','chist']:\n",
    "    for elem2 in temp:\n",
    "        df[elem1[:3] + elem2[:2]] = df[elem1] * df[elem2]\n",
    "        new.append(elem1[:3] + elem2[:2])\n",
    "df = df.drop(columns = 'white')\n",
    "\n",
    "#Clearing observations that have NA\n",
    "df = df.dropna()\n",
    "\n",
    "#Creating 6 dummy variables by race and gender, setting white_male to be base category\n",
    "dummies = pd.get_dummies(df.race.astype(str) + df.male.astype(str))\n",
    "dummies.columns = ['black_female','black_male',\n",
    "                   'hispan_female','hispan_male',\n",
    "                   'white_female','white_male']\n",
    "\n",
    "df[dummies.columns] = dummies\n",
    "df = df.drop(columns = ['male','race','white_male'])\n",
    "\n",
    "tmp = list(df.columns)[1:]\n",
    "for x in tmp:\n",
    "    df[x+'_dmean'] = df[x] - df[x].mean()\n",
    "print(list(df))"
   ]
  },
  {
   "cell_type": "code",
   "execution_count": 2,
   "metadata": {},
   "outputs": [],
   "source": [
    "artregs = ['hrat','obrat','mortlat2','pubrec','self','chist',\n",
    "      'unem','multi','cosign','married','loanprc','dep','sch','thick',\n",
    "      'vr','obwhte'] + new\n",
    "\n",
    "tmpstr = []\n",
    "for reg1 in artregs:\n",
    "    for reg2 in dummies.columns.difference(['white_male']):\n",
    "        tmpstr.append('('+reg1+'_dmean:'+reg2+'_dmean'+')')\n",
    "        \n",
    "f = 'approve ~ -1 + ' + ''.join([x+' + ' for x in tmp]) + ''.join([x+' + ' for x in tmpstr])[:-2]\n",
    "\n",
    "y, X = patsy.dmatrices(f, data=df, return_type='dataframe')"
   ]
  },
  {
   "cell_type": "markdown",
   "metadata": {},
   "source": [
    "# Regressions using Standardization"
   ]
  },
  {
   "cell_type": "code",
   "execution_count": 3,
   "metadata": {},
   "outputs": [],
   "source": [
    "from sklearn.model_selection import train_test_split\n",
    "from sklearn.preprocessing import StandardScaler\n",
    "\n",
    "scaler = StandardScaler()\n",
    "X_stnd = pd.DataFrame(scaler.fit_transform(X), columns = X.columns)\n",
    "y_stnd = pd.DataFrame(scaler.fit_transform(y), columns = y.columns)\n",
    "\n",
    "Xs_train, Xs_test, ys_train, ys_test = train_test_split(X_stnd, y_stnd, test_size = 0.2, random_state = 42)\n",
    "\n",
    "StMSE = pd.DataFrame(columns = [\"MSE\", \"Number of Regs\"]) #Create empty dataframe to store MSE values and Regressors"
   ]
  },
  {
   "cell_type": "markdown",
   "metadata": {},
   "source": [
    "### Comment\n",
    "\n",
    "You standardized the model before but in the options of  Ridge, LASSO, and Elastic regression you chose ```normalized = True```. In the web-page of the library the authors say:  If you wish to standardize, please use ```sklearn.preprocessing.StandardScaler``` before calling fit on an estimator with ```normalize=False```. You standardize the data yourself but it still applies."
   ]
  },
  {
   "cell_type": "markdown",
   "metadata": {},
   "source": [
    "### *Ridge Regression*"
   ]
  },
  {
   "cell_type": "code",
   "execution_count": 4,
   "metadata": {},
   "outputs": [
    {
     "name": "stdout",
     "output_type": "stream",
     "text": [
      "Ridge Alpha: 1.1834693877551021\n",
      "Mean Squared Error: 0.8934063378888983\n",
      "                                        0\n",
      "hrat                            -0.007069\n",
      "obrat                           -0.058842\n",
      "mortlat2                        -0.007476\n",
      "pubrec                          -0.084088\n",
      "self                            -0.025456\n",
      "...                                   ...\n",
      "chivr_dmean:black_female_dmean  -0.001438\n",
      "chivr_dmean:black_male_dmean     0.010136\n",
      "chivr_dmean:hispan_female_dmean  0.000434\n",
      "chivr_dmean:hispan_male_dmean    0.004132\n",
      "chivr_dmean:white_female_dmean  -0.004819\n",
      "\n",
      "[149 rows x 1 columns]\n"
     ]
    }
   ],
   "source": [
    "from sklearn.linear_model import Ridge, RidgeCV #RidgeCV is Ridge Cross Validation\n",
    "\n",
    "alphas = np.linspace(0.5,1.5,50)\n",
    "\n",
    "ridgecv = RidgeCV(alphas = alphas+0.01, scoring = 'neg_mean_squared_error', normalize = True) #RidgeCV cannot take alpha = 0\n",
    "ridgecv.set_params(fit_intercept = True)\n",
    "ridgecv.fit(Xs_train, ys_train) #Function auto does n-fold cross validation\n",
    "print('Ridge Alpha:',ridgecv.alpha_) #calculates everything and returns optimal alpha after fit by above\n",
    "\n",
    "ridge = Ridge(alpha = ridgecv.alpha_, normalize = True)\n",
    "ridge.set_params(fit_intercept = True)\n",
    "ridge.fit(Xs_train, ys_train)\n",
    "StMSE.loc['Ridge Regression','MSE'] = mean_squared_error(ys_test, ridge.predict(Xs_test))\n",
    "print('Mean Squared Error:',mean_squared_error(ys_test, ridge.predict(Xs_test)))\n",
    "\n",
    "ridgeregs = pd.DataFrame(ridge.coef_.ravel(), index = X.columns)\n",
    "print(ridgeregs)\n",
    "StMSE.loc['Ridge Regression','Number of Regs'] = len(ridgeregs)"
   ]
  },
  {
   "cell_type": "markdown",
   "metadata": {},
   "source": [
    "### *Lasso Regression*"
   ]
  },
  {
   "cell_type": "code",
   "execution_count": 5,
   "metadata": {},
   "outputs": [
    {
     "name": "stdout",
     "output_type": "stream",
     "text": [
      "Lasso Alpha: 0.0010510204081632653\n",
      "Mean Squared Error: 0.879160955394095\n",
      "                                          0\n",
      "obrat                             -0.130277\n",
      "pubrec                            -0.159693\n",
      "self                              -0.014746\n",
      "chist                              0.111748\n",
      "multi                             -0.031258\n",
      "loanprc                           -0.037058\n",
      "vr                                -0.023290\n",
      "obwhte                             0.066721\n",
      "chiwh                              0.027850\n",
      "black_male                        -0.012509\n",
      "hrat_dmean:black_female_dmean     -0.002633\n",
      "obrat_dmean:black_female_dmean    -0.018934\n",
      "obrat_dmean:hispan_female_dmean   -0.024761\n",
      "mortlat2_dmean:black_female_dmean  0.014932\n",
      "self_dmean:black_male_dmean        0.023469\n",
      "chist_dmean:black_male_dmean       0.011572\n",
      "chist_dmean:hispan_male_dmean      0.036474\n",
      "unem_dmean:black_female_dmean      0.019863\n",
      "unem_dmean:hispan_male_dmean      -0.011833\n",
      "multi_dmean:black_female_dmean    -0.042469\n",
      "loanprc_dmean:hispan_female_dmean -0.009131\n",
      "sch_dmean:black_female_dmean      -0.001812\n",
      "schth_dmean:black_male_dmean       0.002934\n",
      "schth_dmean:white_female_dmean    -0.009839\n",
      "chith_dmean:hispan_male_dmean      0.004014\n"
     ]
    }
   ],
   "source": [
    "from sklearn.linear_model import Lasso, LassoCV\n",
    "\n",
    "alphas = np.linspace(0.0005,0.002,50, endpoint = True)\n",
    "\n",
    "lasso = Lasso(max_iter = 10000, normalize = True) #iterations used to minimize bc not differentiable; j testing shit or smthn\n",
    "\n",
    "lassocv = LassoCV(alphas = list(alphas), cv = 10, max_iter = 100000, normalize = True)\n",
    "lassocv.set_params(fit_intercept=True)\n",
    "lassocv.fit(Xs_train, ys_train.values.ravel())\n",
    "print('Lasso Alpha:',lassocv.alpha_)\n",
    "\n",
    "lasso.set_params(alpha=lassocv.alpha_,fit_intercept=True)\n",
    "lasso.fit(Xs_train, ys_train.values.ravel())  # need .ravel() to avoid warning\n",
    "StMSE.loc['Lasso Regression','MSE'] = mean_squared_error(ys_test, lasso.predict(Xs_test))\n",
    "print('Mean Squared Error:',mean_squared_error(ys_test, lasso.predict(Xs_test))) #0.09458367849741435\n",
    "\n",
    "#Selecting non-zero coefficients\n",
    "lasregs = pd.DataFrame(lasso.coef_, index = X.columns)[list(pd.DataFrame(lasso.coef_, index = X.columns).T.any())]\n",
    "print(lasregs)\n",
    "StMSE.loc['Lasso Regression','Number of Regs'] = len(lasregs) "
   ]
  },
  {
   "cell_type": "markdown",
   "metadata": {},
   "source": [
    "### *Elastic Net Regression*"
   ]
  },
  {
   "cell_type": "code",
   "execution_count": 6,
   "metadata": {
    "scrolled": true
   },
   "outputs": [
    {
     "name": "stdout",
     "output_type": "stream",
     "text": [
      "Elastic Alpha: 0.001042554701391982\n",
      "Elastic l1 Ratio: 0.5\n",
      "Mean Squared Error: 0.8854208508532732\n",
      "                                       0\n",
      "obrat                          -0.066141\n",
      "mortlat2                       -0.001812\n",
      "pubrec                         -0.096377\n",
      "self                           -0.018672\n",
      "chist                           0.060588\n",
      "...                                  ...\n",
      "chima_dmean:hispan_male_dmean   0.013064\n",
      "chima_dmean:white_female_dmean -0.016409\n",
      "chith_dmean:black_female_dmean  0.003607\n",
      "chith_dmean:black_male_dmean    0.006697\n",
      "chith_dmean:hispan_male_dmean   0.013892\n",
      "\n",
      "[81 rows x 1 columns]\n"
     ]
    }
   ],
   "source": [
    "from sklearn.linear_model import ElasticNet, ElasticNetCV\n",
    "enetcv = ElasticNetCV(cv=5, random_state=42,fit_intercept=True,normalize = True)\n",
    "enetcv.fit(Xs_train, ys_train.values.ravel())\n",
    "print('Elastic Alpha:',enetcv.alpha_)\n",
    "print('Elastic l1 Ratio:',enetcv.l1_ratio)\n",
    "StMSE.loc['Elastic Net','MSE'] = mean_squared_error(ys_test, enetcv.predict(Xs_test))\n",
    "print('Mean Squared Error:',mean_squared_error(ys_test, enetcv.predict(Xs_test)))\n",
    "\n",
    "enet = ElasticNet(alpha=enetcv.alpha_, l1_ratio=enetcv.l1_ratio, fit_intercept = True, normalize = True)\n",
    "enet.fit(Xs_train,ys_train)\n",
    "enetregs = pd.DataFrame(enet.coef_, index = X.columns)[list(pd.DataFrame(enet.coef_, index = X.columns).T.any())]\n",
    "print(enetregs)\n",
    "StMSE.loc['Elastic Net','Number of Regs'] = len(enetregs)"
   ]
  },
  {
   "cell_type": "markdown",
   "metadata": {},
   "source": [
    "## *Conclusions about Standardization*"
   ]
  },
  {
   "cell_type": "markdown",
   "metadata": {},
   "source": [
    "First, to compare the results from the different shrinkage methods above, we can refer to the different MSEs from each of the methods above."
   ]
  },
  {
   "cell_type": "code",
   "execution_count": 7,
   "metadata": {},
   "outputs": [
    {
     "data": {
      "text/html": [
       "<div>\n",
       "<style scoped>\n",
       "    .dataframe tbody tr th:only-of-type {\n",
       "        vertical-align: middle;\n",
       "    }\n",
       "\n",
       "    .dataframe tbody tr th {\n",
       "        vertical-align: top;\n",
       "    }\n",
       "\n",
       "    .dataframe thead th {\n",
       "        text-align: right;\n",
       "    }\n",
       "</style>\n",
       "<table border=\"1\" class=\"dataframe\">\n",
       "  <thead>\n",
       "    <tr style=\"text-align: right;\">\n",
       "      <th></th>\n",
       "      <th>MSE</th>\n",
       "      <th>Number of Regs</th>\n",
       "    </tr>\n",
       "  </thead>\n",
       "  <tbody>\n",
       "    <tr>\n",
       "      <th>Ridge Regression</th>\n",
       "      <td>0.893406</td>\n",
       "      <td>149</td>\n",
       "    </tr>\n",
       "    <tr>\n",
       "      <th>Lasso Regression</th>\n",
       "      <td>0.879161</td>\n",
       "      <td>25</td>\n",
       "    </tr>\n",
       "    <tr>\n",
       "      <th>Elastic Net</th>\n",
       "      <td>0.885421</td>\n",
       "      <td>81</td>\n",
       "    </tr>\n",
       "  </tbody>\n",
       "</table>\n",
       "</div>"
      ],
      "text/plain": [
       "                       MSE Number of Regs\n",
       "Ridge Regression  0.893406            149\n",
       "Lasso Regression  0.879161             25\n",
       "Elastic Net       0.885421             81"
      ]
     },
     "execution_count": 7,
     "metadata": {},
     "output_type": "execute_result"
    }
   ],
   "source": [
    "StMSE"
   ]
  },
  {
   "cell_type": "markdown",
   "metadata": {},
   "source": [
    "For most purposes, the Ridge Regression will not be used regardless of the MSE it produces. This is due to the issue that the Ridge Regression does not effectively help with model selection as it will include *all* regressors in the final model, a phenomenon we do not want when we are trying to select a more parsimonious model."
   ]
  },
  {
   "cell_type": "markdown",
   "metadata": {},
   "source": [
    "Comparing the results above, we can see that, after standardization, the Lasso Regression produces the lowest MSE, signifying that it has the highest prediction power. The Lasso Regression is also preferred to the ELastic Net as it selects fewer regressors while achieving this lower MSE, selecting a more parsimonious and predictively powerful model. The list of regressors picked via the Lasso Regression can be found below:"
   ]
  },
  {
   "cell_type": "code",
   "execution_count": 8,
   "metadata": {},
   "outputs": [
    {
     "data": {
      "text/plain": [
       "Index(['obrat', 'pubrec', 'self', 'chist', 'multi', 'loanprc', 'vr', 'obwhte',\n",
       "       'chiwh', 'black_male', 'hrat_dmean:black_female_dmean',\n",
       "       'obrat_dmean:black_female_dmean', 'obrat_dmean:hispan_female_dmean',\n",
       "       'mortlat2_dmean:black_female_dmean', 'self_dmean:black_male_dmean',\n",
       "       'chist_dmean:black_male_dmean', 'chist_dmean:hispan_male_dmean',\n",
       "       'unem_dmean:black_female_dmean', 'unem_dmean:hispan_male_dmean',\n",
       "       'multi_dmean:black_female_dmean', 'loanprc_dmean:hispan_female_dmean',\n",
       "       'sch_dmean:black_female_dmean', 'schth_dmean:black_male_dmean',\n",
       "       'schth_dmean:white_female_dmean', 'chith_dmean:hispan_male_dmean'],\n",
       "      dtype='object')"
      ]
     },
     "execution_count": 8,
     "metadata": {},
     "output_type": "execute_result"
    }
   ],
   "source": [
    "lasregs.index"
   ]
  },
  {
   "cell_type": "code",
   "execution_count": 9,
   "metadata": {},
   "outputs": [
    {
     "name": "stdout",
     "output_type": "stream",
     "text": [
      "                            OLS Regression Results                            \n",
      "==============================================================================\n",
      "Dep. Variable:                approve   R-squared:                       0.193\n",
      "Model:                            OLS   Adj. R-squared:                  0.183\n",
      "Method:                 Least Squares   F-statistic:                     18.55\n",
      "Date:                Sun, 29 Mar 2020   Prob (F-statistic):           6.08e-73\n",
      "Time:                        17:58:57   Log-Likelihood:                -2571.9\n",
      "No. Observations:                1961   AIC:                             5196.\n",
      "Df Residuals:                    1935   BIC:                             5341.\n",
      "Df Model:                          25                                         \n",
      "Covariance Type:            nonrobust                                         \n",
      "=====================================================================================================\n",
      "                                        coef    std err          t      P>|t|      [0.025      0.975]\n",
      "-----------------------------------------------------------------------------------------------------\n",
      "const                              -4.51e-17      0.020  -2.21e-15      1.000      -0.040       0.040\n",
      "obrat                                -0.2185      0.041     -5.277      0.000      -0.300      -0.137\n",
      "pubrec                               -0.1912      0.022     -8.841      0.000      -0.234      -0.149\n",
      "self                                 -0.0550      0.021     -2.676      0.008      -0.095      -0.015\n",
      "chist                                 0.2293      0.067      3.424      0.001       0.098       0.361\n",
      "multi                                -0.0492      0.021     -2.333      0.020      -0.091      -0.008\n",
      "loanprc                              -0.0808      0.021     -3.790      0.000      -0.123      -0.039\n",
      "vr                                   -0.0478      0.021     -2.313      0.021      -0.088      -0.007\n",
      "obwhte                                0.2106      0.072      2.919      0.004       0.069       0.352\n",
      "chiwh                                -0.1394      0.092     -1.512      0.131      -0.320       0.041\n",
      "black_male                           -0.0299      0.030     -1.000      0.317      -0.089       0.029\n",
      "hrat_dmean:black_female_dmean        -0.0270      0.022     -1.204      0.229      -0.071       0.017\n",
      "obrat_dmean:black_female_dmean        0.0002      0.028      0.005      0.996      -0.055       0.055\n",
      "obrat_dmean:hispan_female_dmean      -0.0476      0.022     -2.210      0.027      -0.090      -0.005\n",
      "mortlat2_dmean:black_female_dmean     0.0293      0.022      1.343      0.179      -0.013       0.072\n",
      "self_dmean:black_male_dmean           0.0484      0.021      2.346      0.019       0.008       0.089\n",
      "chist_dmean:black_male_dmean         -0.0272      0.035     -0.778      0.437      -0.096       0.041\n",
      "chist_dmean:hispan_male_dmean         0.0213      0.026      0.817      0.414      -0.030       0.072\n",
      "unem_dmean:black_female_dmean         0.0248      0.022      1.125      0.261      -0.018       0.068\n",
      "unem_dmean:hispan_male_dmean         -0.0555      0.021     -2.676      0.008      -0.096      -0.015\n",
      "multi_dmean:black_female_dmean       -0.0544      0.022     -2.444      0.015      -0.098      -0.011\n",
      "loanprc_dmean:hispan_female_dmean    -0.0534      0.021     -2.508      0.012      -0.095      -0.012\n",
      "sch_dmean:black_female_dmean         -0.0099      0.021     -0.465      0.642      -0.051       0.032\n",
      "schth_dmean:black_male_dmean          0.0448      0.021      2.172      0.030       0.004       0.085\n",
      "schth_dmean:white_female_dmean       -0.0321      0.021     -1.557      0.120      -0.073       0.008\n",
      "chith_dmean:hispan_male_dmean         0.0372      0.021      1.758      0.079      -0.004       0.079\n",
      "==============================================================================\n",
      "Omnibus:                      729.874   Durbin-Watson:                   2.003\n",
      "Prob(Omnibus):                  0.000   Jarque-Bera (JB):             2244.407\n",
      "Skew:                          -1.935   Prob(JB):                         0.00\n",
      "Kurtosis:                       6.535   Cond. No.                         11.2\n",
      "==============================================================================\n",
      "\n",
      "Warnings:\n",
      "[1] Standard Errors assume that the covariance matrix of the errors is correctly specified.\n"
     ]
    }
   ],
   "source": [
    "#OLS of the model selected by lasso regression via standardization\n",
    "import statsmodels.api as sm\n",
    "print(sm.OLS(y_stnd,sm.add_constant(X_stnd[lasregs.index])).fit().summary())"
   ]
  },
  {
   "cell_type": "markdown",
   "metadata": {},
   "source": [
    "# Regressions using Normalization"
   ]
  },
  {
   "cell_type": "code",
   "execution_count": 10,
   "metadata": {},
   "outputs": [],
   "source": [
    "X_train, X_test, y_train, y_test = train_test_split(X, y, test_size = 0.2, random_state = 42)\n",
    "NoMSE = pd.DataFrame(columns = [\"MSE\", \"Number of Regs\"]) #Create empty dataframe to store MSE values"
   ]
  },
  {
   "cell_type": "markdown",
   "metadata": {},
   "source": [
    "### *Ridge Regression*"
   ]
  },
  {
   "cell_type": "code",
   "execution_count": 11,
   "metadata": {},
   "outputs": [
    {
     "name": "stdout",
     "output_type": "stream",
     "text": [
      "Ridge Alpha: 1.01\n",
      "Mean Squared Error: 0.09658594399678525\n",
      "                                        0\n",
      "hrat                            -0.000276\n",
      "obrat                           -0.002515\n",
      "mortlat2                        -0.024839\n",
      "pubrec                          -0.117294\n",
      "self                            -0.027242\n",
      "...                                   ...\n",
      "chivr_dmean:black_female_dmean  -0.009922\n",
      "chivr_dmean:black_male_dmean     0.028586\n",
      "chivr_dmean:hispan_female_dmean  0.004159\n",
      "chivr_dmean:hispan_male_dmean    0.016632\n",
      "chivr_dmean:white_female_dmean  -0.011541\n",
      "\n",
      "[149 rows x 1 columns]\n"
     ]
    }
   ],
   "source": [
    "from sklearn.linear_model import Ridge, RidgeCV #RidgeCV is Ridge Cross Validation\n",
    "\n",
    "alphas = np.linspace(0,1,50)\n",
    "\n",
    "ridgecv = RidgeCV(alphas = alphas+0.01, scoring = 'neg_mean_squared_error', normalize = True) #RidgeCV cannot take alpha = 0\n",
    "ridgecv.set_params(fit_intercept = True)\n",
    "ridgecv.fit(X_train, y_train) #Function auto does n-fold cross validation\n",
    "print('Ridge Alpha:',ridgecv.alpha_) #calculates everything and returns optimal alpha after fit by above\n",
    "\n",
    "ridge = Ridge(alpha = ridgecv.alpha_, normalize = True)\n",
    "ridge.set_params(fit_intercept = True)\n",
    "ridge.fit(X_train, y_train)\n",
    "NoMSE.loc['Ridge Regression','MSE'] = mean_squared_error(y_test, ridge.predict(X_test))\n",
    "print('Mean Squared Error:',mean_squared_error(y_test, ridge.predict(X_test)))\n",
    "\n",
    "ridgeregs = pd.DataFrame(ridge.coef_.ravel(), index = X.columns)\n",
    "print(ridgeregs)\n",
    "NoMSE.loc['Ridge Regression','Number of Regs'] = len(ridgeregs) "
   ]
  },
  {
   "cell_type": "markdown",
   "metadata": {},
   "source": [
    "### *Lasso Regression*"
   ]
  },
  {
   "cell_type": "code",
   "execution_count": 12,
   "metadata": {
    "scrolled": true
   },
   "outputs": [
    {
     "name": "stdout",
     "output_type": "stream",
     "text": [
      "Lasso Alpha: 0.0002310344827586207\n",
      "Mean Squared Error: 0.09487900787003778\n",
      "                                          0\n",
      "obrat                             -0.006056\n",
      "pubrec                            -0.215768\n",
      "self                              -0.028861\n",
      "chist                              0.118984\n",
      "unem                              -0.000542\n",
      "multi                             -0.039883\n",
      "married                            0.007395\n",
      "loanprc                           -0.079429\n",
      "vr                                -0.022255\n",
      "obwhte                             0.002160\n",
      "black_male                        -0.017743\n",
      "hrat_dmean:black_female_dmean     -0.005434\n",
      "hrat_dmean:hispan_male_dmean      -0.002261\n",
      "obrat_dmean:black_female_dmean    -0.002880\n",
      "obrat_dmean:hispan_female_dmean   -0.013709\n",
      "mortlat2_dmean:black_female_dmean  2.018365\n",
      "mortlat2_dmean:black_male_dmean   -0.085127\n",
      "mortlat2_dmean:hispan_male_dmean  -0.150520\n",
      "pubrec_dmean:white_female_dmean   -0.003135\n",
      "self_dmean:black_male_dmean        0.131985\n",
      "chist_dmean:black_male_dmean       0.028699\n",
      "chist_dmean:hispan_male_dmean      0.174709\n",
      "unem_dmean:black_female_dmean      0.024733\n",
      "unem_dmean:hispan_male_dmean      -0.019424\n",
      "multi_dmean:black_female_dmean    -0.290426\n",
      "multi_dmean:black_male_dmean      -0.005273\n",
      "married_dmean:black_male_dmean    -0.018684\n",
      "married_dmean:hispan_male_dmean   -0.010548\n",
      "married_dmean:white_female_dmean  -0.001164\n",
      "loanprc_dmean:hispan_female_dmean -0.230185\n",
      "loanprc_dmean:white_female_dmean   0.010221\n",
      "sch_dmean:black_female_dmean      -0.064741\n",
      "sch_dmean:black_male_dmean         0.000633\n",
      "vr_dmean:black_male_dmean         -0.020414\n",
      "schth_dmean:black_male_dmean       0.068429\n",
      "schth_dmean:white_female_dmean    -0.088785\n",
      "schvr_dmean:black_female_dmean    -0.015847\n",
      "chima_dmean:white_female_dmean    -0.005957\n",
      "chith_dmean:hispan_male_dmean      0.069558\n"
     ]
    }
   ],
   "source": [
    "from sklearn.linear_model import Lasso, LassoCV\n",
    "\n",
    "alphas = np.linspace(0.00015,0.0002310344827586207,50, endpoint = True) #0.0002310 used because it minized MSE\n",
    "\n",
    "lasso = Lasso(max_iter = 10000, normalize = True) #iterations used to minimize bc not differentiable; j testing shit or smthn\n",
    "\n",
    "lassocv = LassoCV(alphas = list(alphas), cv = 10, max_iter = 100000, normalize = True)\n",
    "lassocv.set_params(fit_intercept=True)\n",
    "lassocv.fit(X_train, y_train.values.ravel())\n",
    "print('Lasso Alpha:',lassocv.alpha_)\n",
    "\n",
    "lasso.set_params(alpha=lassocv.alpha_,fit_intercept=True)\n",
    "lasso.fit(X_train, y_train.values.ravel())  # need .ravel() to avoid warning\n",
    "NoMSE.loc['Lasso Regression','MSE'] = mean_squared_error(y_test, lasso.predict(X_test))\n",
    "print('Mean Squared Error:',mean_squared_error(y_test, lasso.predict(X_test))) \n",
    "\n",
    "#Selecting non-zero coefficients\n",
    "lasregs = pd.DataFrame(lasso.coef_, index = X.columns)[list(pd.DataFrame(lasso.coef_, index = X.columns).T.any())]\n",
    "print(lasregs)\n",
    "NoMSE.loc['Lasso Regression','Number of Regs'] = len(lasregs) "
   ]
  },
  {
   "cell_type": "markdown",
   "metadata": {},
   "source": [
    "### *Elastic Net Regression*"
   ]
  },
  {
   "cell_type": "code",
   "execution_count": 13,
   "metadata": {},
   "outputs": [
    {
     "name": "stdout",
     "output_type": "stream",
     "text": [
      "Elastic Alpha: 0.0005211767826562577\n",
      "Elastic l1 Ratio: 0.5\n",
      "Mean Squared Error: 0.09530639167634154\n",
      "                                          0\n",
      "obrat                             -0.002628\n",
      "pubrec                            -0.153191\n",
      "self                              -0.007615\n",
      "chist                              0.052343\n",
      "unem                              -0.001217\n",
      "multi                             -0.035860\n",
      "married                            0.008370\n",
      "loanprc                           -0.082684\n",
      "vr                                -0.007374\n",
      "obwhte                             0.000185\n",
      "schwh                              0.004587\n",
      "schvr                             -0.003460\n",
      "chiwh                              0.043300\n",
      "chima                              0.003527\n",
      "black_female                      -0.016851\n",
      "black_male                        -0.022853\n",
      "hispan_male                       -0.010191\n",
      "hrat_dmean:hispan_male_dmean      -0.001714\n",
      "obrat_dmean:black_female_dmean    -0.004040\n",
      "obrat_dmean:hispan_female_dmean   -0.007576\n",
      "obrat_dmean:hispan_male_dmean     -0.001648\n",
      "mortlat2_dmean:black_female_dmean  1.013033\n",
      "mortlat2_dmean:black_male_dmean   -0.006526\n",
      "mortlat2_dmean:hispan_male_dmean  -0.090218\n",
      "pubrec_dmean:black_female_dmean   -0.020575\n",
      "pubrec_dmean:black_male_dmean     -0.022782\n",
      "self_dmean:black_male_dmean        0.052671\n",
      "chist_dmean:black_female_dmean     0.067461\n",
      "chist_dmean:black_male_dmean       0.028293\n",
      "chist_dmean:hispan_male_dmean      0.058033\n",
      "unem_dmean:black_female_dmean      0.015887\n",
      "unem_dmean:hispan_male_dmean      -0.011102\n",
      "multi_dmean:black_female_dmean    -0.116775\n",
      "loanprc_dmean:hispan_female_dmean -0.249538\n",
      "dep_dmean:white_female_dmean      -0.006588\n",
      "obwhte_dmean:black_female_dmean    0.000271\n",
      "obwhte_dmean:black_male_dmean      0.000651\n",
      "obwhte_dmean:hispan_male_dmean     0.000052\n",
      "schwh_dmean:black_female_dmean     0.002651\n",
      "schwh_dmean:black_male_dmean       0.015812\n",
      "schwh_dmean:white_female_dmean    -0.016577\n",
      "schma_dmean:black_female_dmean     0.015778\n",
      "schth_dmean:black_male_dmean       0.020862\n",
      "schth_dmean:white_female_dmean    -0.010957\n",
      "schvr_dmean:black_female_dmean    -0.009409\n",
      "chiwh_dmean:black_male_dmean       0.001414\n",
      "chima_dmean:black_female_dmean     0.004064\n",
      "chima_dmean:white_female_dmean    -0.004894\n",
      "chith_dmean:black_male_dmean       0.017031\n",
      "chith_dmean:hispan_male_dmean      0.039599\n"
     ]
    }
   ],
   "source": [
    "from sklearn.linear_model import ElasticNet, ElasticNetCV\n",
    "enetcv = ElasticNetCV(cv=5, random_state=42,fit_intercept=True,normalize = True)\n",
    "enetcv.fit(X_train, y_train.values.ravel())\n",
    "print('Elastic Alpha:',enetcv.alpha_)\n",
    "print('Elastic l1 Ratio:',enetcv.l1_ratio)\n",
    "NoMSE.loc['Elastic Net','MSE'] = mean_squared_error(y_test, enetcv.predict(X_test))\n",
    "print('Mean Squared Error:',mean_squared_error(y_test, enetcv.predict(X_test)))\n",
    "\n",
    "enet = ElasticNet(alpha=enetcv.alpha_, l1_ratio=enetcv.l1_ratio, fit_intercept = True, normalize = True)\n",
    "enet.fit(X,y)\n",
    "enetregs = pd.DataFrame(enet.coef_, index = X.columns)[list(pd.DataFrame(enet.coef_, index = X.columns).T.any())]\n",
    "print(enetregs)\n",
    "NoMSE.loc['Elastic Net','Number of Regs'] = len(enetregs) "
   ]
  },
  {
   "cell_type": "markdown",
   "metadata": {},
   "source": [
    "## *Conclusions about Normalization*"
   ]
  },
  {
   "cell_type": "markdown",
   "metadata": {},
   "source": [
    "First, to compare the results from the different shrinkage methods above, we can refer to the different MSEs from each of the methods above."
   ]
  },
  {
   "cell_type": "code",
   "execution_count": 14,
   "metadata": {},
   "outputs": [
    {
     "data": {
      "text/html": [
       "<div>\n",
       "<style scoped>\n",
       "    .dataframe tbody tr th:only-of-type {\n",
       "        vertical-align: middle;\n",
       "    }\n",
       "\n",
       "    .dataframe tbody tr th {\n",
       "        vertical-align: top;\n",
       "    }\n",
       "\n",
       "    .dataframe thead th {\n",
       "        text-align: right;\n",
       "    }\n",
       "</style>\n",
       "<table border=\"1\" class=\"dataframe\">\n",
       "  <thead>\n",
       "    <tr style=\"text-align: right;\">\n",
       "      <th></th>\n",
       "      <th>MSE</th>\n",
       "      <th>Number of Regs</th>\n",
       "    </tr>\n",
       "  </thead>\n",
       "  <tbody>\n",
       "    <tr>\n",
       "      <th>Ridge Regression</th>\n",
       "      <td>0.0965859</td>\n",
       "      <td>149</td>\n",
       "    </tr>\n",
       "    <tr>\n",
       "      <th>Lasso Regression</th>\n",
       "      <td>0.094879</td>\n",
       "      <td>39</td>\n",
       "    </tr>\n",
       "    <tr>\n",
       "      <th>Elastic Net</th>\n",
       "      <td>0.0953064</td>\n",
       "      <td>50</td>\n",
       "    </tr>\n",
       "  </tbody>\n",
       "</table>\n",
       "</div>"
      ],
      "text/plain": [
       "                        MSE Number of Regs\n",
       "Ridge Regression  0.0965859            149\n",
       "Lasso Regression   0.094879             39\n",
       "Elastic Net       0.0953064             50"
      ]
     },
     "execution_count": 14,
     "metadata": {},
     "output_type": "execute_result"
    }
   ],
   "source": [
    "NoMSE"
   ]
  },
  {
   "cell_type": "markdown",
   "metadata": {},
   "source": [
    "As explained above, the Ridge Regression will not be seriously considered as an optimal method for model selection. It can be also noted above that the Ridge Regression has the highest MSE."
   ]
  },
  {
   "cell_type": "markdown",
   "metadata": {},
   "source": [
    "Comparing the results above, we can see that, after standardization, the Lasso Regression again produces the lowest MSE, signifying that it has the highest prediction power. The Lasso Regression is also preferred to the ELastic Net as it selects fewer regressors while achieving this lower MSE, selecting a more parsimonious and predictively powerful model. The list of regressors picked via the Lasso Regression can be found below:"
   ]
  },
  {
   "cell_type": "code",
   "execution_count": 15,
   "metadata": {},
   "outputs": [
    {
     "data": {
      "text/plain": [
       "Index(['obrat', 'pubrec', 'self', 'chist', 'unem', 'multi', 'married',\n",
       "       'loanprc', 'vr', 'obwhte', 'black_male',\n",
       "       'hrat_dmean:black_female_dmean', 'hrat_dmean:hispan_male_dmean',\n",
       "       'obrat_dmean:black_female_dmean', 'obrat_dmean:hispan_female_dmean',\n",
       "       'mortlat2_dmean:black_female_dmean', 'mortlat2_dmean:black_male_dmean',\n",
       "       'mortlat2_dmean:hispan_male_dmean', 'pubrec_dmean:white_female_dmean',\n",
       "       'self_dmean:black_male_dmean', 'chist_dmean:black_male_dmean',\n",
       "       'chist_dmean:hispan_male_dmean', 'unem_dmean:black_female_dmean',\n",
       "       'unem_dmean:hispan_male_dmean', 'multi_dmean:black_female_dmean',\n",
       "       'multi_dmean:black_male_dmean', 'married_dmean:black_male_dmean',\n",
       "       'married_dmean:hispan_male_dmean', 'married_dmean:white_female_dmean',\n",
       "       'loanprc_dmean:hispan_female_dmean', 'loanprc_dmean:white_female_dmean',\n",
       "       'sch_dmean:black_female_dmean', 'sch_dmean:black_male_dmean',\n",
       "       'vr_dmean:black_male_dmean', 'schth_dmean:black_male_dmean',\n",
       "       'schth_dmean:white_female_dmean', 'schvr_dmean:black_female_dmean',\n",
       "       'chima_dmean:white_female_dmean', 'chith_dmean:hispan_male_dmean'],\n",
       "      dtype='object')"
      ]
     },
     "execution_count": 15,
     "metadata": {},
     "output_type": "execute_result"
    }
   ],
   "source": [
    "lasregs.index"
   ]
  },
  {
   "cell_type": "markdown",
   "metadata": {},
   "source": [
    "Note that there are differences between the regressors selected via normalization and via standardization above. Standardizing the data (as was done in the first section) allows the coefficients to be interpretted on the basis of how a change in 1 standard deviation for a regressor impacts the outcome variable's change by standard deviation. Normalization, however, does not have this same interpretation using standard deviations. As such, this produced the different models selected by either method. "
   ]
  },
  {
   "cell_type": "code",
   "execution_count": 16,
   "metadata": {},
   "outputs": [
    {
     "name": "stdout",
     "output_type": "stream",
     "text": [
      "                            OLS Regression Results                            \n",
      "==============================================================================\n",
      "Dep. Variable:                approve   R-squared:                       0.204\n",
      "Model:                            OLS   Adj. R-squared:                  0.188\n",
      "Method:                 Least Squares   F-statistic:                     12.64\n",
      "Date:                Sun, 29 Mar 2020   Prob (F-statistic):           6.19e-70\n",
      "Time:                        17:58:59   Log-Likelihood:                -377.93\n",
      "No. Observations:                1961   AIC:                             835.9\n",
      "Df Residuals:                    1921   BIC:                             1059.\n",
      "Df Model:                          39                                         \n",
      "Covariance Type:            nonrobust                                         \n",
      "=====================================================================================================\n",
      "                                        coef    std err          t      P>|t|      [0.025      0.975]\n",
      "-----------------------------------------------------------------------------------------------------\n",
      "const                                 1.0829      0.044     24.341      0.000       0.996       1.170\n",
      "obrat                                -0.0064      0.001     -5.774      0.000      -0.009      -0.004\n",
      "pubrec                               -0.2501      0.028     -8.811      0.000      -0.306      -0.194\n",
      "self                                 -0.0466      0.021     -2.270      0.023      -0.087      -0.006\n",
      "chist                                 0.1179      0.020      5.908      0.000       0.079       0.157\n",
      "unem                                 -0.0063      0.003     -1.973      0.049      -0.013   -3.81e-05\n",
      "multi                                -0.0466      0.025     -1.830      0.067      -0.097       0.003\n",
      "married                               0.0355      0.015      2.353      0.019       0.006       0.065\n",
      "loanprc                              -0.1379      0.037     -3.723      0.000      -0.210      -0.065\n",
      "vr                                   -0.0277      0.014     -1.993      0.046      -0.055      -0.000\n",
      "obwhte                                0.0020      0.001      2.395      0.017       0.000       0.004\n",
      "black_male                           -0.0343      0.041     -0.846      0.398      -0.114       0.045\n",
      "hrat_dmean:black_female_dmean        -0.0093      0.007     -1.392      0.164      -0.022       0.004\n",
      "hrat_dmean:hispan_male_dmean         -0.0110      0.005     -2.219      0.027      -0.021      -0.001\n",
      "obrat_dmean:black_female_dmean       -0.0038      0.006     -0.688      0.491      -0.015       0.007\n",
      "obrat_dmean:hispan_female_dmean      -0.0228      0.008     -2.751      0.006      -0.039      -0.007\n",
      "mortlat2_dmean:black_female_dmean     1.4285      2.431      0.588      0.557      -3.340       6.197\n",
      "mortlat2_dmean:black_male_dmean      -0.3703      0.196     -1.887      0.059      -0.755       0.015\n",
      "mortlat2_dmean:hispan_male_dmean     -0.5870      0.318     -1.845      0.065      -1.211       0.037\n",
      "pubrec_dmean:white_female_dmean      -0.0877      0.089     -0.980      0.327      -0.263       0.088\n",
      "self_dmean:black_male_dmean           0.1750      0.077      2.263      0.024       0.023       0.327\n",
      "chist_dmean:black_male_dmean          0.0320      0.058      0.553      0.580      -0.081       0.145\n",
      "chist_dmean:hispan_male_dmean         0.1496      0.093      1.602      0.109      -0.034       0.333\n",
      "unem_dmean:black_female_dmean         0.0354      0.027      1.302      0.193      -0.018       0.089\n",
      "unem_dmean:hispan_male_dmean         -0.0481      0.016     -3.056      0.002      -0.079      -0.017\n",
      "multi_dmean:black_female_dmean       -0.3157      0.119     -2.662      0.008      -0.548      -0.083\n",
      "multi_dmean:black_male_dmean         -0.0380      0.069     -0.554      0.580      -0.173       0.097\n",
      "married_dmean:black_male_dmean       -0.0199      0.060     -0.332      0.740      -0.137       0.098\n",
      "married_dmean:hispan_male_dmean      -0.0950      0.080     -1.192      0.233      -0.251       0.061\n",
      "married_dmean:white_female_dmean     -0.0262      0.041     -0.636      0.525      -0.107       0.055\n",
      "loanprc_dmean:hispan_female_dmean    -0.6543      0.259     -2.527      0.012      -1.162      -0.146\n",
      "loanprc_dmean:white_female_dmean      0.0584      0.098      0.593      0.553      -0.135       0.252\n",
      "sch_dmean:black_female_dmean          0.0547      0.126      0.435      0.664      -0.192       0.301\n",
      "sch_dmean:black_male_dmean            0.0506      0.058      0.867      0.386      -0.064       0.165\n",
      "vr_dmean:black_male_dmean            -0.0657      0.054     -1.221      0.222      -0.171       0.040\n",
      "schth_dmean:black_male_dmean          0.1640      0.094      1.750      0.080      -0.020       0.348\n",
      "schth_dmean:white_female_dmean       -0.1374      0.087     -1.580      0.114      -0.308       0.033\n",
      "schvr_dmean:black_female_dmean       -0.1639      0.096     -1.711      0.087      -0.352       0.024\n",
      "chima_dmean:white_female_dmean        0.0028      0.042      0.067      0.947      -0.080       0.086\n",
      "chith_dmean:hispan_male_dmean         0.1923      0.102      1.879      0.060      -0.008       0.393\n",
      "==============================================================================\n",
      "Omnibus:                      728.787   Durbin-Watson:                   2.010\n",
      "Prob(Omnibus):                  0.000   Jarque-Bera (JB):             2267.088\n",
      "Skew:                          -1.924   Prob(JB):                         0.00\n",
      "Kurtosis:                       6.598   Cond. No.                     1.61e+04\n",
      "==============================================================================\n",
      "\n",
      "Warnings:\n",
      "[1] Standard Errors assume that the covariance matrix of the errors is correctly specified.\n",
      "[2] The condition number is large, 1.61e+04. This might indicate that there are\n",
      "strong multicollinearity or other numerical problems.\n"
     ]
    }
   ],
   "source": [
    "#OLS of the model selected by lasso regression via normalization\n",
    "import statsmodels.api as sm\n",
    "print(sm.OLS(y,sm.add_constant(X[lasregs.index])).fit().summary())"
   ]
  }
 ],
 "metadata": {
  "kernelspec": {
   "display_name": "Python 3",
   "language": "python",
   "name": "python3"
  },
  "language_info": {
   "codemirror_mode": {
    "name": "ipython",
    "version": 3
   },
   "file_extension": ".py",
   "mimetype": "text/x-python",
   "name": "python",
   "nbconvert_exporter": "python",
   "pygments_lexer": "ipython3",
   "version": "3.7.6"
  }
 },
 "nbformat": 4,
 "nbformat_minor": 4
}
